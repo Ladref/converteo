{
 "cells": [
  {
   "cell_type": "markdown",
   "metadata": {},
   "source": [
    "# Load the librairies"
   ]
  },
  {
   "cell_type": "code",
   "execution_count": 253,
   "metadata": {
    "ExecuteTime": {
     "end_time": "2019-09-22T23:58:32.722050Z",
     "start_time": "2019-09-22T23:58:32.717619Z"
    }
   },
   "outputs": [],
   "source": [
    "import pandas as pd\n",
    "import numpy as np\n",
    "import matplotlib.pyplot as plt\n",
    "import seaborn as sns\n",
    "from sklearn.ensemble import RandomForestRegressor\n",
    "from sklearn import metrics\n",
    "from sklearn.model_selection import train_test_split\n",
    "from sklearn.preprocessing import StandardScaler"
   ]
  },
  {
   "cell_type": "markdown",
   "metadata": {},
   "source": [
    "# Display the dataset"
   ]
  },
  {
   "cell_type": "code",
   "execution_count": 254,
   "metadata": {
    "ExecuteTime": {
     "end_time": "2019-09-22T23:58:32.774864Z",
     "start_time": "2019-09-22T23:58:32.725283Z"
    }
   },
   "outputs": [
    {
     "data": {
      "text/html": [
       "<div>\n",
       "<style scoped>\n",
       "    .dataframe tbody tr th:only-of-type {\n",
       "        vertical-align: middle;\n",
       "    }\n",
       "\n",
       "    .dataframe tbody tr th {\n",
       "        vertical-align: top;\n",
       "    }\n",
       "\n",
       "    .dataframe thead th {\n",
       "        text-align: right;\n",
       "    }\n",
       "</style>\n",
       "<table border=\"1\" class=\"dataframe\">\n",
       "  <thead>\n",
       "    <tr style=\"text-align: right;\">\n",
       "      <th></th>\n",
       "      <th>datetime</th>\n",
       "      <th>season</th>\n",
       "      <th>holiday</th>\n",
       "      <th>workingday</th>\n",
       "      <th>weather</th>\n",
       "      <th>temp</th>\n",
       "      <th>atemp</th>\n",
       "      <th>humidity</th>\n",
       "      <th>windspeed</th>\n",
       "      <th>casual</th>\n",
       "      <th>registered</th>\n",
       "      <th>count</th>\n",
       "    </tr>\n",
       "  </thead>\n",
       "  <tbody>\n",
       "    <tr>\n",
       "      <th>0</th>\n",
       "      <td>2011-01-01 00:00:00</td>\n",
       "      <td>1</td>\n",
       "      <td>0</td>\n",
       "      <td>0</td>\n",
       "      <td>1</td>\n",
       "      <td>9.84</td>\n",
       "      <td>14.395</td>\n",
       "      <td>81</td>\n",
       "      <td>0.0</td>\n",
       "      <td>3</td>\n",
       "      <td>13</td>\n",
       "      <td>16</td>\n",
       "    </tr>\n",
       "    <tr>\n",
       "      <th>1</th>\n",
       "      <td>2011-01-01 01:00:00</td>\n",
       "      <td>1</td>\n",
       "      <td>0</td>\n",
       "      <td>0</td>\n",
       "      <td>1</td>\n",
       "      <td>9.02</td>\n",
       "      <td>13.635</td>\n",
       "      <td>80</td>\n",
       "      <td>0.0</td>\n",
       "      <td>8</td>\n",
       "      <td>32</td>\n",
       "      <td>40</td>\n",
       "    </tr>\n",
       "    <tr>\n",
       "      <th>2</th>\n",
       "      <td>2011-01-01 02:00:00</td>\n",
       "      <td>1</td>\n",
       "      <td>0</td>\n",
       "      <td>0</td>\n",
       "      <td>1</td>\n",
       "      <td>9.02</td>\n",
       "      <td>13.635</td>\n",
       "      <td>80</td>\n",
       "      <td>0.0</td>\n",
       "      <td>5</td>\n",
       "      <td>27</td>\n",
       "      <td>32</td>\n",
       "    </tr>\n",
       "    <tr>\n",
       "      <th>3</th>\n",
       "      <td>2011-01-01 03:00:00</td>\n",
       "      <td>1</td>\n",
       "      <td>0</td>\n",
       "      <td>0</td>\n",
       "      <td>1</td>\n",
       "      <td>9.84</td>\n",
       "      <td>14.395</td>\n",
       "      <td>75</td>\n",
       "      <td>0.0</td>\n",
       "      <td>3</td>\n",
       "      <td>10</td>\n",
       "      <td>13</td>\n",
       "    </tr>\n",
       "    <tr>\n",
       "      <th>4</th>\n",
       "      <td>2011-01-01 04:00:00</td>\n",
       "      <td>1</td>\n",
       "      <td>0</td>\n",
       "      <td>0</td>\n",
       "      <td>1</td>\n",
       "      <td>9.84</td>\n",
       "      <td>14.395</td>\n",
       "      <td>75</td>\n",
       "      <td>0.0</td>\n",
       "      <td>0</td>\n",
       "      <td>1</td>\n",
       "      <td>1</td>\n",
       "    </tr>\n",
       "  </tbody>\n",
       "</table>\n",
       "</div>"
      ],
      "text/plain": [
       "              datetime  season  holiday  workingday  weather  temp   atemp  \\\n",
       "0  2011-01-01 00:00:00       1        0           0        1  9.84  14.395   \n",
       "1  2011-01-01 01:00:00       1        0           0        1  9.02  13.635   \n",
       "2  2011-01-01 02:00:00       1        0           0        1  9.02  13.635   \n",
       "3  2011-01-01 03:00:00       1        0           0        1  9.84  14.395   \n",
       "4  2011-01-01 04:00:00       1        0           0        1  9.84  14.395   \n",
       "\n",
       "   humidity  windspeed  casual  registered  count  \n",
       "0        81        0.0       3          13     16  \n",
       "1        80        0.0       8          32     40  \n",
       "2        80        0.0       5          27     32  \n",
       "3        75        0.0       3          10     13  \n",
       "4        75        0.0       0           1      1  "
      ]
     },
     "execution_count": 254,
     "metadata": {},
     "output_type": "execute_result"
    }
   ],
   "source": [
    "df = pd.read_csv(\"data - etude de cas.csv\")\n",
    "df.head()"
   ]
  },
  {
   "cell_type": "markdown",
   "metadata": {
    "ExecuteTime": {
     "end_time": "2019-09-21T09:52:26.680708Z",
     "start_time": "2019-09-21T09:52:26.674933Z"
    }
   },
   "source": [
    "# Info about the dataset"
   ]
  },
  {
   "cell_type": "code",
   "execution_count": 255,
   "metadata": {
    "ExecuteTime": {
     "end_time": "2019-09-22T23:58:32.782962Z",
     "start_time": "2019-09-22T23:58:32.777356Z"
    }
   },
   "outputs": [
    {
     "data": {
      "text/plain": [
       "(10886, 12)"
      ]
     },
     "execution_count": 255,
     "metadata": {},
     "output_type": "execute_result"
    }
   ],
   "source": [
    "df.shape"
   ]
  },
  {
   "cell_type": "code",
   "execution_count": 256,
   "metadata": {
    "ExecuteTime": {
     "end_time": "2019-09-22T23:58:32.801196Z",
     "start_time": "2019-09-22T23:58:32.786090Z"
    },
    "scrolled": false
   },
   "outputs": [
    {
     "name": "stdout",
     "output_type": "stream",
     "text": [
      "<class 'pandas.core.frame.DataFrame'>\n",
      "RangeIndex: 10886 entries, 0 to 10885\n",
      "Data columns (total 12 columns):\n",
      "datetime      10886 non-null object\n",
      "season        10886 non-null int64\n",
      "holiday       10886 non-null int64\n",
      "workingday    10886 non-null int64\n",
      "weather       10886 non-null int64\n",
      "temp          10886 non-null float64\n",
      "atemp         10886 non-null float64\n",
      "humidity      10886 non-null int64\n",
      "windspeed     10886 non-null float64\n",
      "casual        10886 non-null int64\n",
      "registered    10886 non-null int64\n",
      "count         10886 non-null int64\n",
      "dtypes: float64(3), int64(8), object(1)\n",
      "memory usage: 1020.6+ KB\n"
     ]
    }
   ],
   "source": [
    "df.info()"
   ]
  },
  {
   "cell_type": "code",
   "execution_count": 257,
   "metadata": {
    "ExecuteTime": {
     "end_time": "2019-09-22T23:58:32.813531Z",
     "start_time": "2019-09-22T23:58:32.803619Z"
    }
   },
   "outputs": [
    {
     "data": {
      "text/plain": [
       "datetime      0\n",
       "season        0\n",
       "holiday       0\n",
       "workingday    0\n",
       "weather       0\n",
       "temp          0\n",
       "atemp         0\n",
       "humidity      0\n",
       "windspeed     0\n",
       "casual        0\n",
       "registered    0\n",
       "count         0\n",
       "dtype: int64"
      ]
     },
     "execution_count": 257,
     "metadata": {},
     "output_type": "execute_result"
    }
   ],
   "source": [
    "df.isnull().sum()"
   ]
  },
  {
   "cell_type": "code",
   "execution_count": 258,
   "metadata": {
    "ExecuteTime": {
     "end_time": "2019-09-22T23:58:32.819480Z",
     "start_time": "2019-09-22T23:58:32.816558Z"
    }
   },
   "outputs": [],
   "source": [
    "# All features are numerical except datetime column, there is no NaN values."
   ]
  },
  {
   "cell_type": "code",
   "execution_count": 259,
   "metadata": {
    "ExecuteTime": {
     "end_time": "2019-09-22T23:58:32.857538Z",
     "start_time": "2019-09-22T23:58:32.823058Z"
    },
    "scrolled": true
   },
   "outputs": [
    {
     "data": {
      "text/html": [
       "<div>\n",
       "<style scoped>\n",
       "    .dataframe tbody tr th:only-of-type {\n",
       "        vertical-align: middle;\n",
       "    }\n",
       "\n",
       "    .dataframe tbody tr th {\n",
       "        vertical-align: top;\n",
       "    }\n",
       "\n",
       "    .dataframe thead th {\n",
       "        text-align: right;\n",
       "    }\n",
       "</style>\n",
       "<table border=\"1\" class=\"dataframe\">\n",
       "  <thead>\n",
       "    <tr style=\"text-align: right;\">\n",
       "      <th></th>\n",
       "      <th>temp</th>\n",
       "      <th>atemp</th>\n",
       "      <th>humidity</th>\n",
       "      <th>windspeed</th>\n",
       "    </tr>\n",
       "  </thead>\n",
       "  <tbody>\n",
       "    <tr>\n",
       "      <th>count</th>\n",
       "      <td>10886.00000</td>\n",
       "      <td>10886.000000</td>\n",
       "      <td>10886.000000</td>\n",
       "      <td>10886.000000</td>\n",
       "    </tr>\n",
       "    <tr>\n",
       "      <th>mean</th>\n",
       "      <td>20.23086</td>\n",
       "      <td>23.655084</td>\n",
       "      <td>61.886460</td>\n",
       "      <td>12.799395</td>\n",
       "    </tr>\n",
       "    <tr>\n",
       "      <th>std</th>\n",
       "      <td>7.79159</td>\n",
       "      <td>8.474601</td>\n",
       "      <td>19.245033</td>\n",
       "      <td>8.164537</td>\n",
       "    </tr>\n",
       "    <tr>\n",
       "      <th>min</th>\n",
       "      <td>0.82000</td>\n",
       "      <td>0.760000</td>\n",
       "      <td>0.000000</td>\n",
       "      <td>0.000000</td>\n",
       "    </tr>\n",
       "    <tr>\n",
       "      <th>25%</th>\n",
       "      <td>13.94000</td>\n",
       "      <td>16.665000</td>\n",
       "      <td>47.000000</td>\n",
       "      <td>7.001500</td>\n",
       "    </tr>\n",
       "    <tr>\n",
       "      <th>50%</th>\n",
       "      <td>20.50000</td>\n",
       "      <td>24.240000</td>\n",
       "      <td>62.000000</td>\n",
       "      <td>12.998000</td>\n",
       "    </tr>\n",
       "    <tr>\n",
       "      <th>75%</th>\n",
       "      <td>26.24000</td>\n",
       "      <td>31.060000</td>\n",
       "      <td>77.000000</td>\n",
       "      <td>16.997900</td>\n",
       "    </tr>\n",
       "    <tr>\n",
       "      <th>max</th>\n",
       "      <td>41.00000</td>\n",
       "      <td>45.455000</td>\n",
       "      <td>100.000000</td>\n",
       "      <td>56.996900</td>\n",
       "    </tr>\n",
       "  </tbody>\n",
       "</table>\n",
       "</div>"
      ],
      "text/plain": [
       "              temp         atemp      humidity     windspeed\n",
       "count  10886.00000  10886.000000  10886.000000  10886.000000\n",
       "mean      20.23086     23.655084     61.886460     12.799395\n",
       "std        7.79159      8.474601     19.245033      8.164537\n",
       "min        0.82000      0.760000      0.000000      0.000000\n",
       "25%       13.94000     16.665000     47.000000      7.001500\n",
       "50%       20.50000     24.240000     62.000000     12.998000\n",
       "75%       26.24000     31.060000     77.000000     16.997900\n",
       "max       41.00000     45.455000    100.000000     56.996900"
      ]
     },
     "execution_count": 259,
     "metadata": {},
     "output_type": "execute_result"
    }
   ],
   "source": [
    "# Select only the columns with numerical values and retrieve some interesting information\n",
    "df[[\"temp\", \"atemp\", \"humidity\", \"windspeed\"]].describe()"
   ]
  },
  {
   "cell_type": "code",
   "execution_count": 260,
   "metadata": {
    "ExecuteTime": {
     "end_time": "2019-09-22T23:58:32.862660Z",
     "start_time": "2019-09-22T23:58:32.860046Z"
    }
   },
   "outputs": [],
   "source": [
    "# Thanks to this describe method we can observe that:\n",
    "    # - the data seems correct, there is no outliers from those features but we could perform boxplot to visualize it"
   ]
  },
  {
   "cell_type": "markdown",
   "metadata": {},
   "source": [
    "# Exploratory Data Analysis"
   ]
  },
  {
   "cell_type": "code",
   "execution_count": 261,
   "metadata": {
    "ExecuteTime": {
     "end_time": "2019-09-22T23:58:32.878510Z",
     "start_time": "2019-09-22T23:58:32.865417Z"
    }
   },
   "outputs": [
    {
     "data": {
      "text/html": [
       "<div>\n",
       "<style scoped>\n",
       "    .dataframe tbody tr th:only-of-type {\n",
       "        vertical-align: middle;\n",
       "    }\n",
       "\n",
       "    .dataframe tbody tr th {\n",
       "        vertical-align: top;\n",
       "    }\n",
       "\n",
       "    .dataframe thead th {\n",
       "        text-align: right;\n",
       "    }\n",
       "</style>\n",
       "<table border=\"1\" class=\"dataframe\">\n",
       "  <thead>\n",
       "    <tr style=\"text-align: right;\">\n",
       "      <th></th>\n",
       "      <th>datetime</th>\n",
       "      <th>season</th>\n",
       "      <th>holiday</th>\n",
       "      <th>workingday</th>\n",
       "      <th>weather</th>\n",
       "      <th>temp</th>\n",
       "      <th>atemp</th>\n",
       "      <th>humidity</th>\n",
       "      <th>windspeed</th>\n",
       "      <th>casual</th>\n",
       "      <th>registered</th>\n",
       "      <th>count</th>\n",
       "    </tr>\n",
       "  </thead>\n",
       "  <tbody>\n",
       "    <tr>\n",
       "      <th>0</th>\n",
       "      <td>2011-01-01 00:00:00</td>\n",
       "      <td>1</td>\n",
       "      <td>0</td>\n",
       "      <td>0</td>\n",
       "      <td>1</td>\n",
       "      <td>9.84</td>\n",
       "      <td>14.395</td>\n",
       "      <td>81</td>\n",
       "      <td>0.0</td>\n",
       "      <td>3</td>\n",
       "      <td>13</td>\n",
       "      <td>16</td>\n",
       "    </tr>\n",
       "    <tr>\n",
       "      <th>1</th>\n",
       "      <td>2011-01-01 01:00:00</td>\n",
       "      <td>1</td>\n",
       "      <td>0</td>\n",
       "      <td>0</td>\n",
       "      <td>1</td>\n",
       "      <td>9.02</td>\n",
       "      <td>13.635</td>\n",
       "      <td>80</td>\n",
       "      <td>0.0</td>\n",
       "      <td>8</td>\n",
       "      <td>32</td>\n",
       "      <td>40</td>\n",
       "    </tr>\n",
       "    <tr>\n",
       "      <th>2</th>\n",
       "      <td>2011-01-01 02:00:00</td>\n",
       "      <td>1</td>\n",
       "      <td>0</td>\n",
       "      <td>0</td>\n",
       "      <td>1</td>\n",
       "      <td>9.02</td>\n",
       "      <td>13.635</td>\n",
       "      <td>80</td>\n",
       "      <td>0.0</td>\n",
       "      <td>5</td>\n",
       "      <td>27</td>\n",
       "      <td>32</td>\n",
       "    </tr>\n",
       "    <tr>\n",
       "      <th>3</th>\n",
       "      <td>2011-01-01 03:00:00</td>\n",
       "      <td>1</td>\n",
       "      <td>0</td>\n",
       "      <td>0</td>\n",
       "      <td>1</td>\n",
       "      <td>9.84</td>\n",
       "      <td>14.395</td>\n",
       "      <td>75</td>\n",
       "      <td>0.0</td>\n",
       "      <td>3</td>\n",
       "      <td>10</td>\n",
       "      <td>13</td>\n",
       "    </tr>\n",
       "    <tr>\n",
       "      <th>4</th>\n",
       "      <td>2011-01-01 04:00:00</td>\n",
       "      <td>1</td>\n",
       "      <td>0</td>\n",
       "      <td>0</td>\n",
       "      <td>1</td>\n",
       "      <td>9.84</td>\n",
       "      <td>14.395</td>\n",
       "      <td>75</td>\n",
       "      <td>0.0</td>\n",
       "      <td>0</td>\n",
       "      <td>1</td>\n",
       "      <td>1</td>\n",
       "    </tr>\n",
       "  </tbody>\n",
       "</table>\n",
       "</div>"
      ],
      "text/plain": [
       "              datetime  season  holiday  workingday  weather  temp   atemp  \\\n",
       "0  2011-01-01 00:00:00       1        0           0        1  9.84  14.395   \n",
       "1  2011-01-01 01:00:00       1        0           0        1  9.02  13.635   \n",
       "2  2011-01-01 02:00:00       1        0           0        1  9.02  13.635   \n",
       "3  2011-01-01 03:00:00       1        0           0        1  9.84  14.395   \n",
       "4  2011-01-01 04:00:00       1        0           0        1  9.84  14.395   \n",
       "\n",
       "   humidity  windspeed  casual  registered  count  \n",
       "0        81        0.0       3          13     16  \n",
       "1        80        0.0       8          32     40  \n",
       "2        80        0.0       5          27     32  \n",
       "3        75        0.0       3          10     13  \n",
       "4        75        0.0       0           1      1  "
      ]
     },
     "execution_count": 261,
     "metadata": {},
     "output_type": "execute_result"
    }
   ],
   "source": [
    "df.head()"
   ]
  },
  {
   "cell_type": "code",
   "execution_count": 262,
   "metadata": {
    "ExecuteTime": {
     "end_time": "2019-09-22T23:58:32.883027Z",
     "start_time": "2019-09-22T23:58:32.880456Z"
    }
   },
   "outputs": [],
   "source": [
    "# We want to create new features from this dataset:\n",
    "# - trasnform the datetime column into datetime object\n",
    "# - Create new feature from datetime column (Hour and Weekday)\n",
    "# - create some ratio with casual/registered users comparing to the total count of users"
   ]
  },
  {
   "cell_type": "code",
   "execution_count": 263,
   "metadata": {
    "ExecuteTime": {
     "end_time": "2019-09-22T23:58:32.893355Z",
     "start_time": "2019-09-22T23:58:32.884837Z"
    }
   },
   "outputs": [
    {
     "data": {
      "text/plain": [
       "dtype('<M8[ns]')"
      ]
     },
     "execution_count": 263,
     "metadata": {},
     "output_type": "execute_result"
    }
   ],
   "source": [
    "df[\"datetime\"] = pd.to_datetime(df.datetime)\n",
    "df.datetime.dtypes"
   ]
  },
  {
   "cell_type": "code",
   "execution_count": 264,
   "metadata": {
    "ExecuteTime": {
     "end_time": "2019-09-22T23:58:32.914935Z",
     "start_time": "2019-09-22T23:58:32.895021Z"
    }
   },
   "outputs": [],
   "source": [
    "df[\"year\"] = df.datetime.dt.year\n",
    "df[\"month_name\"] = df.datetime.dt.month_name()\n",
    "df[\"month\"] = df.datetime.dt.month\n",
    "df[\"weekday_name\"] = df.datetime.dt.weekday_name\n",
    "df[\"weekday\"] = df.datetime.dt.weekday\n",
    "df[\"day\"] = df.datetime.dt.day\n",
    "df[\"hour\"] = df.datetime.dt.hour"
   ]
  },
  {
   "cell_type": "code",
   "execution_count": 265,
   "metadata": {
    "ExecuteTime": {
     "end_time": "2019-09-22T23:58:32.922243Z",
     "start_time": "2019-09-22T23:58:32.916647Z"
    }
   },
   "outputs": [
    {
     "data": {
      "text/plain": [
       "(Timestamp('2011-01-01 00:00:00'), Timestamp('2012-12-19 23:00:00'))"
      ]
     },
     "execution_count": 265,
     "metadata": {},
     "output_type": "execute_result"
    }
   ],
   "source": [
    "# We want to know for how long tha data has been collected:\n",
    "df.datetime.min(), df.datetime.max()"
   ]
  },
  {
   "cell_type": "code",
   "execution_count": 266,
   "metadata": {
    "ExecuteTime": {
     "end_time": "2019-09-22T23:58:32.926777Z",
     "start_time": "2019-09-22T23:58:32.923786Z"
    }
   },
   "outputs": [],
   "source": [
    "# We have almost two years of data, this is quite enough to perform some calculation"
   ]
  },
  {
   "cell_type": "code",
   "execution_count": 267,
   "metadata": {
    "ExecuteTime": {
     "end_time": "2019-09-22T23:58:32.948864Z",
     "start_time": "2019-09-22T23:58:32.930118Z"
    },
    "scrolled": true
   },
   "outputs": [
    {
     "data": {
      "text/html": [
       "<div>\n",
       "<style scoped>\n",
       "    .dataframe tbody tr th:only-of-type {\n",
       "        vertical-align: middle;\n",
       "    }\n",
       "\n",
       "    .dataframe tbody tr th {\n",
       "        vertical-align: top;\n",
       "    }\n",
       "\n",
       "    .dataframe thead th {\n",
       "        text-align: right;\n",
       "    }\n",
       "</style>\n",
       "<table border=\"1\" class=\"dataframe\">\n",
       "  <thead>\n",
       "    <tr style=\"text-align: right;\">\n",
       "      <th></th>\n",
       "      <th>datetime</th>\n",
       "      <th>season</th>\n",
       "      <th>holiday</th>\n",
       "      <th>workingday</th>\n",
       "      <th>weather</th>\n",
       "      <th>temp</th>\n",
       "      <th>atemp</th>\n",
       "      <th>humidity</th>\n",
       "      <th>windspeed</th>\n",
       "      <th>casual</th>\n",
       "      <th>registered</th>\n",
       "      <th>count</th>\n",
       "      <th>year</th>\n",
       "      <th>month_name</th>\n",
       "      <th>month</th>\n",
       "      <th>weekday_name</th>\n",
       "      <th>weekday</th>\n",
       "      <th>day</th>\n",
       "      <th>hour</th>\n",
       "    </tr>\n",
       "  </thead>\n",
       "  <tbody>\n",
       "    <tr>\n",
       "      <th>0</th>\n",
       "      <td>2011-01-01 00:00:00</td>\n",
       "      <td>1</td>\n",
       "      <td>0</td>\n",
       "      <td>0</td>\n",
       "      <td>1</td>\n",
       "      <td>9.84</td>\n",
       "      <td>14.395</td>\n",
       "      <td>81</td>\n",
       "      <td>0.0</td>\n",
       "      <td>3</td>\n",
       "      <td>13</td>\n",
       "      <td>16</td>\n",
       "      <td>2011</td>\n",
       "      <td>January</td>\n",
       "      <td>1</td>\n",
       "      <td>Saturday</td>\n",
       "      <td>5</td>\n",
       "      <td>1</td>\n",
       "      <td>0</td>\n",
       "    </tr>\n",
       "    <tr>\n",
       "      <th>1</th>\n",
       "      <td>2011-01-01 01:00:00</td>\n",
       "      <td>1</td>\n",
       "      <td>0</td>\n",
       "      <td>0</td>\n",
       "      <td>1</td>\n",
       "      <td>9.02</td>\n",
       "      <td>13.635</td>\n",
       "      <td>80</td>\n",
       "      <td>0.0</td>\n",
       "      <td>8</td>\n",
       "      <td>32</td>\n",
       "      <td>40</td>\n",
       "      <td>2011</td>\n",
       "      <td>January</td>\n",
       "      <td>1</td>\n",
       "      <td>Saturday</td>\n",
       "      <td>5</td>\n",
       "      <td>1</td>\n",
       "      <td>1</td>\n",
       "    </tr>\n",
       "    <tr>\n",
       "      <th>2</th>\n",
       "      <td>2011-01-01 02:00:00</td>\n",
       "      <td>1</td>\n",
       "      <td>0</td>\n",
       "      <td>0</td>\n",
       "      <td>1</td>\n",
       "      <td>9.02</td>\n",
       "      <td>13.635</td>\n",
       "      <td>80</td>\n",
       "      <td>0.0</td>\n",
       "      <td>5</td>\n",
       "      <td>27</td>\n",
       "      <td>32</td>\n",
       "      <td>2011</td>\n",
       "      <td>January</td>\n",
       "      <td>1</td>\n",
       "      <td>Saturday</td>\n",
       "      <td>5</td>\n",
       "      <td>1</td>\n",
       "      <td>2</td>\n",
       "    </tr>\n",
       "    <tr>\n",
       "      <th>3</th>\n",
       "      <td>2011-01-01 03:00:00</td>\n",
       "      <td>1</td>\n",
       "      <td>0</td>\n",
       "      <td>0</td>\n",
       "      <td>1</td>\n",
       "      <td>9.84</td>\n",
       "      <td>14.395</td>\n",
       "      <td>75</td>\n",
       "      <td>0.0</td>\n",
       "      <td>3</td>\n",
       "      <td>10</td>\n",
       "      <td>13</td>\n",
       "      <td>2011</td>\n",
       "      <td>January</td>\n",
       "      <td>1</td>\n",
       "      <td>Saturday</td>\n",
       "      <td>5</td>\n",
       "      <td>1</td>\n",
       "      <td>3</td>\n",
       "    </tr>\n",
       "    <tr>\n",
       "      <th>4</th>\n",
       "      <td>2011-01-01 04:00:00</td>\n",
       "      <td>1</td>\n",
       "      <td>0</td>\n",
       "      <td>0</td>\n",
       "      <td>1</td>\n",
       "      <td>9.84</td>\n",
       "      <td>14.395</td>\n",
       "      <td>75</td>\n",
       "      <td>0.0</td>\n",
       "      <td>0</td>\n",
       "      <td>1</td>\n",
       "      <td>1</td>\n",
       "      <td>2011</td>\n",
       "      <td>January</td>\n",
       "      <td>1</td>\n",
       "      <td>Saturday</td>\n",
       "      <td>5</td>\n",
       "      <td>1</td>\n",
       "      <td>4</td>\n",
       "    </tr>\n",
       "  </tbody>\n",
       "</table>\n",
       "</div>"
      ],
      "text/plain": [
       "             datetime  season  holiday  workingday  weather  temp   atemp  \\\n",
       "0 2011-01-01 00:00:00       1        0           0        1  9.84  14.395   \n",
       "1 2011-01-01 01:00:00       1        0           0        1  9.02  13.635   \n",
       "2 2011-01-01 02:00:00       1        0           0        1  9.02  13.635   \n",
       "3 2011-01-01 03:00:00       1        0           0        1  9.84  14.395   \n",
       "4 2011-01-01 04:00:00       1        0           0        1  9.84  14.395   \n",
       "\n",
       "   humidity  windspeed  casual  registered  count  year month_name  month  \\\n",
       "0        81        0.0       3          13     16  2011    January      1   \n",
       "1        80        0.0       8          32     40  2011    January      1   \n",
       "2        80        0.0       5          27     32  2011    January      1   \n",
       "3        75        0.0       3          10     13  2011    January      1   \n",
       "4        75        0.0       0           1      1  2011    January      1   \n",
       "\n",
       "  weekday_name  weekday  day  hour  \n",
       "0     Saturday        5    1     0  \n",
       "1     Saturday        5    1     1  \n",
       "2     Saturday        5    1     2  \n",
       "3     Saturday        5    1     3  \n",
       "4     Saturday        5    1     4  "
      ]
     },
     "execution_count": 267,
     "metadata": {},
     "output_type": "execute_result"
    }
   ],
   "source": [
    "# let's display the dataset\n",
    "df.head()"
   ]
  },
  {
   "cell_type": "code",
   "execution_count": 268,
   "metadata": {
    "ExecuteTime": {
     "end_time": "2019-09-22T23:58:32.959058Z",
     "start_time": "2019-09-22T23:58:32.951723Z"
    }
   },
   "outputs": [
    {
     "data": {
      "text/plain": [
       "1    7412\n",
       "0    3474\n",
       "Name: workingday, dtype: int64"
      ]
     },
     "execution_count": 268,
     "metadata": {},
     "output_type": "execute_result"
    }
   ],
   "source": [
    "df.workingday.value_counts()"
   ]
  },
  {
   "cell_type": "code",
   "execution_count": 269,
   "metadata": {
    "ExecuteTime": {
     "end_time": "2019-09-22T23:58:32.972924Z",
     "start_time": "2019-09-22T23:58:32.960701Z"
    }
   },
   "outputs": [],
   "source": [
    "# To have a better understanding of the data, we will replace the numeric values by explicit values\n",
    "df.holiday = df.holiday.replace([0], [\"No\"]).replace([1], [\"Yes\"])\n",
    "df.workingday = df.workingday.replace([0], [\"No\"]).replace([1], [\"Yes\"])\n",
    "df.weather = df.weather.replace([1], [\"Dégagé à nuageux\"]).replace([2], [\"Brouillard\"]).replace([3], [\"Légère pluie ou neige\"]).replace([4], [\"Fortes averses ou neiges\"])"
   ]
  },
  {
   "cell_type": "code",
   "execution_count": 270,
   "metadata": {
    "ExecuteTime": {
     "end_time": "2019-09-22T23:58:32.992435Z",
     "start_time": "2019-09-22T23:58:32.974408Z"
    }
   },
   "outputs": [
    {
     "data": {
      "text/html": [
       "<div>\n",
       "<style scoped>\n",
       "    .dataframe tbody tr th:only-of-type {\n",
       "        vertical-align: middle;\n",
       "    }\n",
       "\n",
       "    .dataframe tbody tr th {\n",
       "        vertical-align: top;\n",
       "    }\n",
       "\n",
       "    .dataframe thead th {\n",
       "        text-align: right;\n",
       "    }\n",
       "</style>\n",
       "<table border=\"1\" class=\"dataframe\">\n",
       "  <thead>\n",
       "    <tr style=\"text-align: right;\">\n",
       "      <th></th>\n",
       "      <th>datetime</th>\n",
       "      <th>season</th>\n",
       "      <th>holiday</th>\n",
       "      <th>workingday</th>\n",
       "      <th>weather</th>\n",
       "      <th>temp</th>\n",
       "      <th>atemp</th>\n",
       "      <th>humidity</th>\n",
       "      <th>windspeed</th>\n",
       "      <th>casual</th>\n",
       "      <th>registered</th>\n",
       "      <th>count</th>\n",
       "      <th>year</th>\n",
       "      <th>month_name</th>\n",
       "      <th>month</th>\n",
       "      <th>weekday_name</th>\n",
       "      <th>weekday</th>\n",
       "      <th>day</th>\n",
       "      <th>hour</th>\n",
       "    </tr>\n",
       "  </thead>\n",
       "  <tbody>\n",
       "    <tr>\n",
       "      <th>0</th>\n",
       "      <td>2011-01-01 00:00:00</td>\n",
       "      <td>1</td>\n",
       "      <td>No</td>\n",
       "      <td>No</td>\n",
       "      <td>Dégagé à nuageux</td>\n",
       "      <td>9.84</td>\n",
       "      <td>14.395</td>\n",
       "      <td>81</td>\n",
       "      <td>0.0</td>\n",
       "      <td>3</td>\n",
       "      <td>13</td>\n",
       "      <td>16</td>\n",
       "      <td>2011</td>\n",
       "      <td>January</td>\n",
       "      <td>1</td>\n",
       "      <td>Saturday</td>\n",
       "      <td>5</td>\n",
       "      <td>1</td>\n",
       "      <td>0</td>\n",
       "    </tr>\n",
       "    <tr>\n",
       "      <th>1</th>\n",
       "      <td>2011-01-01 01:00:00</td>\n",
       "      <td>1</td>\n",
       "      <td>No</td>\n",
       "      <td>No</td>\n",
       "      <td>Dégagé à nuageux</td>\n",
       "      <td>9.02</td>\n",
       "      <td>13.635</td>\n",
       "      <td>80</td>\n",
       "      <td>0.0</td>\n",
       "      <td>8</td>\n",
       "      <td>32</td>\n",
       "      <td>40</td>\n",
       "      <td>2011</td>\n",
       "      <td>January</td>\n",
       "      <td>1</td>\n",
       "      <td>Saturday</td>\n",
       "      <td>5</td>\n",
       "      <td>1</td>\n",
       "      <td>1</td>\n",
       "    </tr>\n",
       "    <tr>\n",
       "      <th>2</th>\n",
       "      <td>2011-01-01 02:00:00</td>\n",
       "      <td>1</td>\n",
       "      <td>No</td>\n",
       "      <td>No</td>\n",
       "      <td>Dégagé à nuageux</td>\n",
       "      <td>9.02</td>\n",
       "      <td>13.635</td>\n",
       "      <td>80</td>\n",
       "      <td>0.0</td>\n",
       "      <td>5</td>\n",
       "      <td>27</td>\n",
       "      <td>32</td>\n",
       "      <td>2011</td>\n",
       "      <td>January</td>\n",
       "      <td>1</td>\n",
       "      <td>Saturday</td>\n",
       "      <td>5</td>\n",
       "      <td>1</td>\n",
       "      <td>2</td>\n",
       "    </tr>\n",
       "    <tr>\n",
       "      <th>3</th>\n",
       "      <td>2011-01-01 03:00:00</td>\n",
       "      <td>1</td>\n",
       "      <td>No</td>\n",
       "      <td>No</td>\n",
       "      <td>Dégagé à nuageux</td>\n",
       "      <td>9.84</td>\n",
       "      <td>14.395</td>\n",
       "      <td>75</td>\n",
       "      <td>0.0</td>\n",
       "      <td>3</td>\n",
       "      <td>10</td>\n",
       "      <td>13</td>\n",
       "      <td>2011</td>\n",
       "      <td>January</td>\n",
       "      <td>1</td>\n",
       "      <td>Saturday</td>\n",
       "      <td>5</td>\n",
       "      <td>1</td>\n",
       "      <td>3</td>\n",
       "    </tr>\n",
       "    <tr>\n",
       "      <th>4</th>\n",
       "      <td>2011-01-01 04:00:00</td>\n",
       "      <td>1</td>\n",
       "      <td>No</td>\n",
       "      <td>No</td>\n",
       "      <td>Dégagé à nuageux</td>\n",
       "      <td>9.84</td>\n",
       "      <td>14.395</td>\n",
       "      <td>75</td>\n",
       "      <td>0.0</td>\n",
       "      <td>0</td>\n",
       "      <td>1</td>\n",
       "      <td>1</td>\n",
       "      <td>2011</td>\n",
       "      <td>January</td>\n",
       "      <td>1</td>\n",
       "      <td>Saturday</td>\n",
       "      <td>5</td>\n",
       "      <td>1</td>\n",
       "      <td>4</td>\n",
       "    </tr>\n",
       "  </tbody>\n",
       "</table>\n",
       "</div>"
      ],
      "text/plain": [
       "             datetime  season holiday workingday           weather  temp  \\\n",
       "0 2011-01-01 00:00:00       1      No         No  Dégagé à nuageux  9.84   \n",
       "1 2011-01-01 01:00:00       1      No         No  Dégagé à nuageux  9.02   \n",
       "2 2011-01-01 02:00:00       1      No         No  Dégagé à nuageux  9.02   \n",
       "3 2011-01-01 03:00:00       1      No         No  Dégagé à nuageux  9.84   \n",
       "4 2011-01-01 04:00:00       1      No         No  Dégagé à nuageux  9.84   \n",
       "\n",
       "    atemp  humidity  windspeed  casual  registered  count  year month_name  \\\n",
       "0  14.395        81        0.0       3          13     16  2011    January   \n",
       "1  13.635        80        0.0       8          32     40  2011    January   \n",
       "2  13.635        80        0.0       5          27     32  2011    January   \n",
       "3  14.395        75        0.0       3          10     13  2011    January   \n",
       "4  14.395        75        0.0       0           1      1  2011    January   \n",
       "\n",
       "   month weekday_name  weekday  day  hour  \n",
       "0      1     Saturday        5    1     0  \n",
       "1      1     Saturday        5    1     1  \n",
       "2      1     Saturday        5    1     2  \n",
       "3      1     Saturday        5    1     3  \n",
       "4      1     Saturday        5    1     4  "
      ]
     },
     "execution_count": 270,
     "metadata": {},
     "output_type": "execute_result"
    }
   ],
   "source": [
    "df.head()"
   ]
  },
  {
   "cell_type": "code",
   "execution_count": 271,
   "metadata": {
    "ExecuteTime": {
     "end_time": "2019-09-22T23:58:33.011102Z",
     "start_time": "2019-09-22T23:58:32.994269Z"
    }
   },
   "outputs": [
    {
     "data": {
      "text/html": [
       "<div>\n",
       "<style scoped>\n",
       "    .dataframe tbody tr th:only-of-type {\n",
       "        vertical-align: middle;\n",
       "    }\n",
       "\n",
       "    .dataframe tbody tr th {\n",
       "        vertical-align: top;\n",
       "    }\n",
       "\n",
       "    .dataframe thead th {\n",
       "        text-align: right;\n",
       "    }\n",
       "</style>\n",
       "<table border=\"1\" class=\"dataframe\">\n",
       "  <thead>\n",
       "    <tr style=\"text-align: right;\">\n",
       "      <th>year</th>\n",
       "      <th>2011</th>\n",
       "      <th>2012</th>\n",
       "    </tr>\n",
       "    <tr>\n",
       "      <th>month_name</th>\n",
       "      <th></th>\n",
       "      <th></th>\n",
       "    </tr>\n",
       "  </thead>\n",
       "  <tbody>\n",
       "    <tr>\n",
       "      <th>April</th>\n",
       "      <td>455</td>\n",
       "      <td>454</td>\n",
       "    </tr>\n",
       "    <tr>\n",
       "      <th>August</th>\n",
       "      <td>456</td>\n",
       "      <td>456</td>\n",
       "    </tr>\n",
       "    <tr>\n",
       "      <th>December</th>\n",
       "      <td>456</td>\n",
       "      <td>456</td>\n",
       "    </tr>\n",
       "    <tr>\n",
       "      <th>February</th>\n",
       "      <td>446</td>\n",
       "      <td>455</td>\n",
       "    </tr>\n",
       "    <tr>\n",
       "      <th>January</th>\n",
       "      <td>431</td>\n",
       "      <td>453</td>\n",
       "    </tr>\n",
       "    <tr>\n",
       "      <th>July</th>\n",
       "      <td>456</td>\n",
       "      <td>456</td>\n",
       "    </tr>\n",
       "    <tr>\n",
       "      <th>June</th>\n",
       "      <td>456</td>\n",
       "      <td>456</td>\n",
       "    </tr>\n",
       "    <tr>\n",
       "      <th>March</th>\n",
       "      <td>446</td>\n",
       "      <td>455</td>\n",
       "    </tr>\n",
       "    <tr>\n",
       "      <th>May</th>\n",
       "      <td>456</td>\n",
       "      <td>456</td>\n",
       "    </tr>\n",
       "    <tr>\n",
       "      <th>November</th>\n",
       "      <td>456</td>\n",
       "      <td>455</td>\n",
       "    </tr>\n",
       "    <tr>\n",
       "      <th>October</th>\n",
       "      <td>455</td>\n",
       "      <td>456</td>\n",
       "    </tr>\n",
       "    <tr>\n",
       "      <th>September</th>\n",
       "      <td>453</td>\n",
       "      <td>456</td>\n",
       "    </tr>\n",
       "  </tbody>\n",
       "</table>\n",
       "</div>"
      ],
      "text/plain": [
       "year        2011  2012\n",
       "month_name            \n",
       "April        455   454\n",
       "August       456   456\n",
       "December     456   456\n",
       "February     446   455\n",
       "January      431   453\n",
       "July         456   456\n",
       "June         456   456\n",
       "March        446   455\n",
       "May          456   456\n",
       "November     456   455\n",
       "October      455   456\n",
       "September    453   456"
      ]
     },
     "execution_count": 271,
     "metadata": {},
     "output_type": "execute_result"
    }
   ],
   "source": [
    "df.groupby([\"month_name\", \"year\"]).hour.count().unstack()"
   ]
  },
  {
   "cell_type": "code",
   "execution_count": 272,
   "metadata": {
    "ExecuteTime": {
     "end_time": "2019-09-22T23:58:33.072972Z",
     "start_time": "2019-09-22T23:58:33.013082Z"
    }
   },
   "outputs": [
    {
     "data": {
      "text/html": [
       "<div>\n",
       "<style scoped>\n",
       "    .dataframe tbody tr th:only-of-type {\n",
       "        vertical-align: middle;\n",
       "    }\n",
       "\n",
       "    .dataframe tbody tr th {\n",
       "        vertical-align: top;\n",
       "    }\n",
       "\n",
       "    .dataframe thead th {\n",
       "        text-align: right;\n",
       "    }\n",
       "</style>\n",
       "<table border=\"1\" class=\"dataframe\">\n",
       "  <thead>\n",
       "    <tr style=\"text-align: right;\">\n",
       "      <th>weekday_name</th>\n",
       "      <th>Friday</th>\n",
       "      <th>Monday</th>\n",
       "      <th>Saturday</th>\n",
       "      <th>Sunday</th>\n",
       "      <th>Thursday</th>\n",
       "      <th>Tuesday</th>\n",
       "      <th>Wednesday</th>\n",
       "      <th>Total</th>\n",
       "    </tr>\n",
       "    <tr>\n",
       "      <th>hour</th>\n",
       "      <th></th>\n",
       "      <th></th>\n",
       "      <th></th>\n",
       "      <th></th>\n",
       "      <th></th>\n",
       "      <th></th>\n",
       "      <th></th>\n",
       "      <th></th>\n",
       "    </tr>\n",
       "  </thead>\n",
       "  <tbody>\n",
       "    <tr>\n",
       "      <th>0</th>\n",
       "      <td>53.0</td>\n",
       "      <td>35.0</td>\n",
       "      <td>98.0</td>\n",
       "      <td>96.0</td>\n",
       "      <td>37.0</td>\n",
       "      <td>27.0</td>\n",
       "      <td>36.0</td>\n",
       "      <td>55.0</td>\n",
       "    </tr>\n",
       "    <tr>\n",
       "      <th>1</th>\n",
       "      <td>24.0</td>\n",
       "      <td>18.0</td>\n",
       "      <td>70.0</td>\n",
       "      <td>79.0</td>\n",
       "      <td>15.0</td>\n",
       "      <td>12.0</td>\n",
       "      <td>16.0</td>\n",
       "      <td>34.0</td>\n",
       "    </tr>\n",
       "    <tr>\n",
       "      <th>2</th>\n",
       "      <td>13.0</td>\n",
       "      <td>11.0</td>\n",
       "      <td>50.0</td>\n",
       "      <td>62.0</td>\n",
       "      <td>8.0</td>\n",
       "      <td>6.0</td>\n",
       "      <td>8.0</td>\n",
       "      <td>23.0</td>\n",
       "    </tr>\n",
       "    <tr>\n",
       "      <th>3</th>\n",
       "      <td>6.0</td>\n",
       "      <td>6.0</td>\n",
       "      <td>23.0</td>\n",
       "      <td>30.0</td>\n",
       "      <td>5.0</td>\n",
       "      <td>4.0</td>\n",
       "      <td>5.0</td>\n",
       "      <td>12.0</td>\n",
       "    </tr>\n",
       "    <tr>\n",
       "      <th>4</th>\n",
       "      <td>6.0</td>\n",
       "      <td>6.0</td>\n",
       "      <td>8.0</td>\n",
       "      <td>10.0</td>\n",
       "      <td>5.0</td>\n",
       "      <td>5.0</td>\n",
       "      <td>5.0</td>\n",
       "      <td>6.0</td>\n",
       "    </tr>\n",
       "    <tr>\n",
       "      <th>5</th>\n",
       "      <td>23.0</td>\n",
       "      <td>22.0</td>\n",
       "      <td>9.0</td>\n",
       "      <td>9.0</td>\n",
       "      <td>26.0</td>\n",
       "      <td>24.0</td>\n",
       "      <td>25.0</td>\n",
       "      <td>20.0</td>\n",
       "    </tr>\n",
       "    <tr>\n",
       "      <th>6</th>\n",
       "      <td>91.0</td>\n",
       "      <td>89.0</td>\n",
       "      <td>21.0</td>\n",
       "      <td>15.0</td>\n",
       "      <td>108.0</td>\n",
       "      <td>105.0</td>\n",
       "      <td>106.0</td>\n",
       "      <td>76.0</td>\n",
       "    </tr>\n",
       "    <tr>\n",
       "      <th>7</th>\n",
       "      <td>254.0</td>\n",
       "      <td>260.0</td>\n",
       "      <td>47.0</td>\n",
       "      <td>35.0</td>\n",
       "      <td>308.0</td>\n",
       "      <td>298.0</td>\n",
       "      <td>297.0</td>\n",
       "      <td>213.0</td>\n",
       "    </tr>\n",
       "    <tr>\n",
       "      <th>8</th>\n",
       "      <td>470.0</td>\n",
       "      <td>428.0</td>\n",
       "      <td>118.0</td>\n",
       "      <td>84.0</td>\n",
       "      <td>497.0</td>\n",
       "      <td>469.0</td>\n",
       "      <td>485.0</td>\n",
       "      <td>363.0</td>\n",
       "    </tr>\n",
       "    <tr>\n",
       "      <th>9</th>\n",
       "      <td>262.0</td>\n",
       "      <td>226.0</td>\n",
       "      <td>191.0</td>\n",
       "      <td>159.0</td>\n",
       "      <td>242.0</td>\n",
       "      <td>236.0</td>\n",
       "      <td>239.0</td>\n",
       "      <td>222.0</td>\n",
       "    </tr>\n",
       "    <tr>\n",
       "      <th>10</th>\n",
       "      <td>157.0</td>\n",
       "      <td>141.0</td>\n",
       "      <td>270.0</td>\n",
       "      <td>265.0</td>\n",
       "      <td>128.0</td>\n",
       "      <td>129.0</td>\n",
       "      <td>132.0</td>\n",
       "      <td>175.0</td>\n",
       "    </tr>\n",
       "    <tr>\n",
       "      <th>11</th>\n",
       "      <td>187.0</td>\n",
       "      <td>171.0</td>\n",
       "      <td>339.0</td>\n",
       "      <td>321.0</td>\n",
       "      <td>156.0</td>\n",
       "      <td>146.0</td>\n",
       "      <td>149.0</td>\n",
       "      <td>211.0</td>\n",
       "    </tr>\n",
       "    <tr>\n",
       "      <th>12</th>\n",
       "      <td>236.0</td>\n",
       "      <td>215.0</td>\n",
       "      <td>389.0</td>\n",
       "      <td>381.0</td>\n",
       "      <td>199.0</td>\n",
       "      <td>181.0</td>\n",
       "      <td>190.0</td>\n",
       "      <td>257.0</td>\n",
       "    </tr>\n",
       "    <tr>\n",
       "      <th>13</th>\n",
       "      <td>243.0</td>\n",
       "      <td>213.0</td>\n",
       "      <td>403.0</td>\n",
       "      <td>385.0</td>\n",
       "      <td>195.0</td>\n",
       "      <td>182.0</td>\n",
       "      <td>179.0</td>\n",
       "      <td>258.0</td>\n",
       "    </tr>\n",
       "    <tr>\n",
       "      <th>14</th>\n",
       "      <td>227.0</td>\n",
       "      <td>200.0</td>\n",
       "      <td>398.0</td>\n",
       "      <td>370.0</td>\n",
       "      <td>175.0</td>\n",
       "      <td>162.0</td>\n",
       "      <td>167.0</td>\n",
       "      <td>243.0</td>\n",
       "    </tr>\n",
       "    <tr>\n",
       "      <th>15</th>\n",
       "      <td>248.0</td>\n",
       "      <td>210.0</td>\n",
       "      <td>399.0</td>\n",
       "      <td>365.0</td>\n",
       "      <td>193.0</td>\n",
       "      <td>181.0</td>\n",
       "      <td>180.0</td>\n",
       "      <td>254.0</td>\n",
       "    </tr>\n",
       "    <tr>\n",
       "      <th>16</th>\n",
       "      <td>332.0</td>\n",
       "      <td>295.0</td>\n",
       "      <td>380.0</td>\n",
       "      <td>366.0</td>\n",
       "      <td>288.0</td>\n",
       "      <td>284.0</td>\n",
       "      <td>268.0</td>\n",
       "      <td>316.0</td>\n",
       "    </tr>\n",
       "    <tr>\n",
       "      <th>17</th>\n",
       "      <td>502.0</td>\n",
       "      <td>521.0</td>\n",
       "      <td>346.0</td>\n",
       "      <td>326.0</td>\n",
       "      <td>537.0</td>\n",
       "      <td>544.0</td>\n",
       "      <td>509.0</td>\n",
       "      <td>469.0</td>\n",
       "    </tr>\n",
       "    <tr>\n",
       "      <th>18</th>\n",
       "      <td>428.0</td>\n",
       "      <td>500.0</td>\n",
       "      <td>301.0</td>\n",
       "      <td>273.0</td>\n",
       "      <td>507.0</td>\n",
       "      <td>523.0</td>\n",
       "      <td>489.0</td>\n",
       "      <td>431.0</td>\n",
       "    </tr>\n",
       "    <tr>\n",
       "      <th>19</th>\n",
       "      <td>304.0</td>\n",
       "      <td>360.0</td>\n",
       "      <td>250.0</td>\n",
       "      <td>227.0</td>\n",
       "      <td>364.0</td>\n",
       "      <td>356.0</td>\n",
       "      <td>348.0</td>\n",
       "      <td>315.0</td>\n",
       "    </tr>\n",
       "    <tr>\n",
       "      <th>20</th>\n",
       "      <td>217.0</td>\n",
       "      <td>250.0</td>\n",
       "      <td>188.0</td>\n",
       "      <td>173.0</td>\n",
       "      <td>272.0</td>\n",
       "      <td>250.0</td>\n",
       "      <td>252.0</td>\n",
       "      <td>229.0</td>\n",
       "    </tr>\n",
       "    <tr>\n",
       "      <th>21</th>\n",
       "      <td>171.0</td>\n",
       "      <td>179.0</td>\n",
       "      <td>159.0</td>\n",
       "      <td>132.0</td>\n",
       "      <td>200.0</td>\n",
       "      <td>183.0</td>\n",
       "      <td>191.0</td>\n",
       "      <td>173.0</td>\n",
       "    </tr>\n",
       "    <tr>\n",
       "      <th>22</th>\n",
       "      <td>153.0</td>\n",
       "      <td>120.0</td>\n",
       "      <td>143.0</td>\n",
       "      <td>100.0</td>\n",
       "      <td>149.0</td>\n",
       "      <td>131.0</td>\n",
       "      <td>140.0</td>\n",
       "      <td>134.0</td>\n",
       "    </tr>\n",
       "    <tr>\n",
       "      <th>23</th>\n",
       "      <td>120.0</td>\n",
       "      <td>67.0</td>\n",
       "      <td>120.0</td>\n",
       "      <td>65.0</td>\n",
       "      <td>100.0</td>\n",
       "      <td>76.0</td>\n",
       "      <td>80.0</td>\n",
       "      <td>90.0</td>\n",
       "    </tr>\n",
       "    <tr>\n",
       "      <th>Total</th>\n",
       "      <td>198.0</td>\n",
       "      <td>190.0</td>\n",
       "      <td>197.0</td>\n",
       "      <td>181.0</td>\n",
       "      <td>197.0</td>\n",
       "      <td>190.0</td>\n",
       "      <td>188.0</td>\n",
       "      <td>192.0</td>\n",
       "    </tr>\n",
       "  </tbody>\n",
       "</table>\n",
       "</div>"
      ],
      "text/plain": [
       "weekday_name  Friday  Monday  Saturday  Sunday  Thursday  Tuesday  Wednesday  \\\n",
       "hour                                                                           \n",
       "0               53.0    35.0      98.0    96.0      37.0     27.0       36.0   \n",
       "1               24.0    18.0      70.0    79.0      15.0     12.0       16.0   \n",
       "2               13.0    11.0      50.0    62.0       8.0      6.0        8.0   \n",
       "3                6.0     6.0      23.0    30.0       5.0      4.0        5.0   \n",
       "4                6.0     6.0       8.0    10.0       5.0      5.0        5.0   \n",
       "5               23.0    22.0       9.0     9.0      26.0     24.0       25.0   \n",
       "6               91.0    89.0      21.0    15.0     108.0    105.0      106.0   \n",
       "7              254.0   260.0      47.0    35.0     308.0    298.0      297.0   \n",
       "8              470.0   428.0     118.0    84.0     497.0    469.0      485.0   \n",
       "9              262.0   226.0     191.0   159.0     242.0    236.0      239.0   \n",
       "10             157.0   141.0     270.0   265.0     128.0    129.0      132.0   \n",
       "11             187.0   171.0     339.0   321.0     156.0    146.0      149.0   \n",
       "12             236.0   215.0     389.0   381.0     199.0    181.0      190.0   \n",
       "13             243.0   213.0     403.0   385.0     195.0    182.0      179.0   \n",
       "14             227.0   200.0     398.0   370.0     175.0    162.0      167.0   \n",
       "15             248.0   210.0     399.0   365.0     193.0    181.0      180.0   \n",
       "16             332.0   295.0     380.0   366.0     288.0    284.0      268.0   \n",
       "17             502.0   521.0     346.0   326.0     537.0    544.0      509.0   \n",
       "18             428.0   500.0     301.0   273.0     507.0    523.0      489.0   \n",
       "19             304.0   360.0     250.0   227.0     364.0    356.0      348.0   \n",
       "20             217.0   250.0     188.0   173.0     272.0    250.0      252.0   \n",
       "21             171.0   179.0     159.0   132.0     200.0    183.0      191.0   \n",
       "22             153.0   120.0     143.0   100.0     149.0    131.0      140.0   \n",
       "23             120.0    67.0     120.0    65.0     100.0     76.0       80.0   \n",
       "Total          198.0   190.0     197.0   181.0     197.0    190.0      188.0   \n",
       "\n",
       "weekday_name  Total  \n",
       "hour                 \n",
       "0              55.0  \n",
       "1              34.0  \n",
       "2              23.0  \n",
       "3              12.0  \n",
       "4               6.0  \n",
       "5              20.0  \n",
       "6              76.0  \n",
       "7             213.0  \n",
       "8             363.0  \n",
       "9             222.0  \n",
       "10            175.0  \n",
       "11            211.0  \n",
       "12            257.0  \n",
       "13            258.0  \n",
       "14            243.0  \n",
       "15            254.0  \n",
       "16            316.0  \n",
       "17            469.0  \n",
       "18            431.0  \n",
       "19            315.0  \n",
       "20            229.0  \n",
       "21            173.0  \n",
       "22            134.0  \n",
       "23             90.0  \n",
       "Total         192.0  "
      ]
     },
     "execution_count": 272,
     "metadata": {},
     "output_type": "execute_result"
    }
   ],
   "source": [
    "# We want to create a pivot table where where can find the mean value of users per weekday and hours\n",
    "\n",
    "week_hour_df = round(df.pivot_table(index=\"hour\", columns=\"weekday_name\", values=\"count\", aggfunc=\"mean\", margins=True, margins_name=\"Total\"))\n",
    "week_hour_df"
   ]
  },
  {
   "cell_type": "code",
   "execution_count": 273,
   "metadata": {
    "ExecuteTime": {
     "end_time": "2019-09-22T23:58:33.080183Z",
     "start_time": "2019-09-22T23:58:33.075003Z"
    }
   },
   "outputs": [],
   "source": [
    "start_winter_11 = \"2011-01-01 00:00:00\"\n",
    "end_winter_11 = \"2011-03-20 23:00:00\"\n",
    "\n",
    "start_spring_11 = \"2011-03-21 23:00:00\"\n",
    "end_spring_11 = \"2011-06-20 23:00:00\"\n",
    "\n",
    "start_summer_11 = \"2011-06-21 23:00:00\"\n",
    "end_summer_11 = \"2011-09-20 23:00:00\"\n",
    "\n",
    "start_fall_11 = \"2011-09-21 23:00:00\"\n",
    "end_fall_11 = \"2011-12-20 23:00:00\"\n",
    "\n",
    "# We do the same for 2012\n",
    "\n",
    "start_winter_12 = \"2012-12-21 00:00:00\"\n",
    "end_winter_12 = \"2012-03-20 23:00:00\"\n",
    "\n",
    "start_spring_12 = \"2012-03-21 23:00:00\"\n",
    "end_spring_12 = \"2012-06-20 23:00:00\"\n",
    "\n",
    "start_summer_12 = \"2012-06-21 23:00:00\"\n",
    "end_summer_12 = \"2012-09-20 23:00:00\"\n",
    "\n",
    "start_fall_12 = \"2012-09-21 23:00:00\"\n",
    "end_fall_12 = \"2012-12-20 23:00:00\""
   ]
  },
  {
   "cell_type": "code",
   "execution_count": 274,
   "metadata": {
    "ExecuteTime": {
     "end_time": "2019-09-22T23:58:33.103310Z",
     "start_time": "2019-09-22T23:58:33.082397Z"
    }
   },
   "outputs": [],
   "source": [
    "winter_index_11 = (df.loc[(df.datetime >= start_winter_11) & (df.datetime <= end_winter_11)]).index\n",
    "winter_index_12 = (df.loc[(df.datetime >= start_winter_12) & (df.datetime <= end_winter_12)]).index\n",
    "\n",
    "\n",
    "spring_index_11 = (df.loc[(df.datetime >= start_spring_11) & (df.datetime <= end_spring_11)]).index\n",
    "spring_index_12 = (df.loc[(df.datetime >= start_spring_12) & (df.datetime <= end_spring_12)]).index\n",
    "\n",
    "summer_index_11 = (df.loc[(df.datetime >= start_summer_11) & (df.datetime <= end_summer_11)]).index\n",
    "summer_index_12 = (df.loc[(df.datetime >= start_summer_12) & (df.datetime <= end_summer_12)]).index\n",
    "\n",
    "fall_index_11 = (df.loc[(df.datetime >= start_fall_11) & (df.datetime <= end_fall_11)]).index\n",
    "fall_index_12 = (df.loc[(df.datetime >= start_fall_12) & (df.datetime <= end_fall_12)]).index"
   ]
  },
  {
   "cell_type": "code",
   "execution_count": 275,
   "metadata": {
    "ExecuteTime": {
     "end_time": "2019-09-22T23:58:33.121265Z",
     "start_time": "2019-09-22T23:58:33.105024Z"
    },
    "scrolled": false
   },
   "outputs": [
    {
     "data": {
      "text/html": [
       "<div>\n",
       "<style scoped>\n",
       "    .dataframe tbody tr th:only-of-type {\n",
       "        vertical-align: middle;\n",
       "    }\n",
       "\n",
       "    .dataframe tbody tr th {\n",
       "        vertical-align: top;\n",
       "    }\n",
       "\n",
       "    .dataframe thead th {\n",
       "        text-align: right;\n",
       "    }\n",
       "</style>\n",
       "<table border=\"1\" class=\"dataframe\">\n",
       "  <thead>\n",
       "    <tr style=\"text-align: right;\">\n",
       "      <th></th>\n",
       "      <th>datetime</th>\n",
       "      <th>season</th>\n",
       "      <th>holiday</th>\n",
       "      <th>workingday</th>\n",
       "      <th>weather</th>\n",
       "      <th>temp</th>\n",
       "      <th>atemp</th>\n",
       "      <th>humidity</th>\n",
       "      <th>windspeed</th>\n",
       "      <th>casual</th>\n",
       "      <th>registered</th>\n",
       "      <th>count</th>\n",
       "      <th>year</th>\n",
       "      <th>month_name</th>\n",
       "      <th>month</th>\n",
       "      <th>weekday_name</th>\n",
       "      <th>weekday</th>\n",
       "      <th>day</th>\n",
       "      <th>hour</th>\n",
       "    </tr>\n",
       "  </thead>\n",
       "  <tbody>\n",
       "    <tr>\n",
       "      <th>0</th>\n",
       "      <td>2011-01-01 00:00:00</td>\n",
       "      <td>1</td>\n",
       "      <td>No</td>\n",
       "      <td>No</td>\n",
       "      <td>Dégagé à nuageux</td>\n",
       "      <td>9.84</td>\n",
       "      <td>14.395</td>\n",
       "      <td>81</td>\n",
       "      <td>0.0</td>\n",
       "      <td>3</td>\n",
       "      <td>13</td>\n",
       "      <td>16</td>\n",
       "      <td>2011</td>\n",
       "      <td>January</td>\n",
       "      <td>1</td>\n",
       "      <td>Saturday</td>\n",
       "      <td>5</td>\n",
       "      <td>1</td>\n",
       "      <td>0</td>\n",
       "    </tr>\n",
       "    <tr>\n",
       "      <th>1</th>\n",
       "      <td>2011-01-01 01:00:00</td>\n",
       "      <td>1</td>\n",
       "      <td>No</td>\n",
       "      <td>No</td>\n",
       "      <td>Dégagé à nuageux</td>\n",
       "      <td>9.02</td>\n",
       "      <td>13.635</td>\n",
       "      <td>80</td>\n",
       "      <td>0.0</td>\n",
       "      <td>8</td>\n",
       "      <td>32</td>\n",
       "      <td>40</td>\n",
       "      <td>2011</td>\n",
       "      <td>January</td>\n",
       "      <td>1</td>\n",
       "      <td>Saturday</td>\n",
       "      <td>5</td>\n",
       "      <td>1</td>\n",
       "      <td>1</td>\n",
       "    </tr>\n",
       "    <tr>\n",
       "      <th>2</th>\n",
       "      <td>2011-01-01 02:00:00</td>\n",
       "      <td>1</td>\n",
       "      <td>No</td>\n",
       "      <td>No</td>\n",
       "      <td>Dégagé à nuageux</td>\n",
       "      <td>9.02</td>\n",
       "      <td>13.635</td>\n",
       "      <td>80</td>\n",
       "      <td>0.0</td>\n",
       "      <td>5</td>\n",
       "      <td>27</td>\n",
       "      <td>32</td>\n",
       "      <td>2011</td>\n",
       "      <td>January</td>\n",
       "      <td>1</td>\n",
       "      <td>Saturday</td>\n",
       "      <td>5</td>\n",
       "      <td>1</td>\n",
       "      <td>2</td>\n",
       "    </tr>\n",
       "    <tr>\n",
       "      <th>3</th>\n",
       "      <td>2011-01-01 03:00:00</td>\n",
       "      <td>1</td>\n",
       "      <td>No</td>\n",
       "      <td>No</td>\n",
       "      <td>Dégagé à nuageux</td>\n",
       "      <td>9.84</td>\n",
       "      <td>14.395</td>\n",
       "      <td>75</td>\n",
       "      <td>0.0</td>\n",
       "      <td>3</td>\n",
       "      <td>10</td>\n",
       "      <td>13</td>\n",
       "      <td>2011</td>\n",
       "      <td>January</td>\n",
       "      <td>1</td>\n",
       "      <td>Saturday</td>\n",
       "      <td>5</td>\n",
       "      <td>1</td>\n",
       "      <td>3</td>\n",
       "    </tr>\n",
       "    <tr>\n",
       "      <th>4</th>\n",
       "      <td>2011-01-01 04:00:00</td>\n",
       "      <td>1</td>\n",
       "      <td>No</td>\n",
       "      <td>No</td>\n",
       "      <td>Dégagé à nuageux</td>\n",
       "      <td>9.84</td>\n",
       "      <td>14.395</td>\n",
       "      <td>75</td>\n",
       "      <td>0.0</td>\n",
       "      <td>0</td>\n",
       "      <td>1</td>\n",
       "      <td>1</td>\n",
       "      <td>2011</td>\n",
       "      <td>January</td>\n",
       "      <td>1</td>\n",
       "      <td>Saturday</td>\n",
       "      <td>5</td>\n",
       "      <td>1</td>\n",
       "      <td>4</td>\n",
       "    </tr>\n",
       "  </tbody>\n",
       "</table>\n",
       "</div>"
      ],
      "text/plain": [
       "             datetime  season holiday workingday           weather  temp  \\\n",
       "0 2011-01-01 00:00:00       1      No         No  Dégagé à nuageux  9.84   \n",
       "1 2011-01-01 01:00:00       1      No         No  Dégagé à nuageux  9.02   \n",
       "2 2011-01-01 02:00:00       1      No         No  Dégagé à nuageux  9.02   \n",
       "3 2011-01-01 03:00:00       1      No         No  Dégagé à nuageux  9.84   \n",
       "4 2011-01-01 04:00:00       1      No         No  Dégagé à nuageux  9.84   \n",
       "\n",
       "    atemp  humidity  windspeed  casual  registered  count  year month_name  \\\n",
       "0  14.395        81        0.0       3          13     16  2011    January   \n",
       "1  13.635        80        0.0       8          32     40  2011    January   \n",
       "2  13.635        80        0.0       5          27     32  2011    January   \n",
       "3  14.395        75        0.0       3          10     13  2011    January   \n",
       "4  14.395        75        0.0       0           1      1  2011    January   \n",
       "\n",
       "   month weekday_name  weekday  day  hour  \n",
       "0      1     Saturday        5    1     0  \n",
       "1      1     Saturday        5    1     1  \n",
       "2      1     Saturday        5    1     2  \n",
       "3      1     Saturday        5    1     3  \n",
       "4      1     Saturday        5    1     4  "
      ]
     },
     "execution_count": 275,
     "metadata": {},
     "output_type": "execute_result"
    }
   ],
   "source": [
    "df.head()"
   ]
  },
  {
   "cell_type": "code",
   "execution_count": 276,
   "metadata": {
    "ExecuteTime": {
     "end_time": "2019-09-22T23:58:33.131316Z",
     "start_time": "2019-09-22T23:58:33.123083Z"
    }
   },
   "outputs": [],
   "source": [
    "df[\"season_name\"] = df.season.replace({1: \"spring\"}).replace({2: \"summer\"}).replace({\"fall\"}).replace({4: \"winter\"})"
   ]
  },
  {
   "cell_type": "code",
   "execution_count": 277,
   "metadata": {
    "ExecuteTime": {
     "end_time": "2019-09-22T23:58:33.146916Z",
     "start_time": "2019-09-22T23:58:33.133051Z"
    },
    "scrolled": false
   },
   "outputs": [
    {
     "data": {
      "text/html": [
       "<div>\n",
       "<style scoped>\n",
       "    .dataframe tbody tr th:only-of-type {\n",
       "        vertical-align: middle;\n",
       "    }\n",
       "\n",
       "    .dataframe tbody tr th {\n",
       "        vertical-align: top;\n",
       "    }\n",
       "\n",
       "    .dataframe thead th {\n",
       "        text-align: right;\n",
       "    }\n",
       "</style>\n",
       "<table border=\"1\" class=\"dataframe\">\n",
       "  <thead>\n",
       "    <tr style=\"text-align: right;\">\n",
       "      <th></th>\n",
       "      <th>min</th>\n",
       "      <th>mean</th>\n",
       "      <th>max</th>\n",
       "    </tr>\n",
       "    <tr>\n",
       "      <th>season</th>\n",
       "      <th></th>\n",
       "      <th></th>\n",
       "      <th></th>\n",
       "    </tr>\n",
       "  </thead>\n",
       "  <tbody>\n",
       "    <tr>\n",
       "      <th>1</th>\n",
       "      <td>0.82</td>\n",
       "      <td>12.530491</td>\n",
       "      <td>29.52</td>\n",
       "    </tr>\n",
       "    <tr>\n",
       "      <th>2</th>\n",
       "      <td>9.84</td>\n",
       "      <td>22.823483</td>\n",
       "      <td>38.54</td>\n",
       "    </tr>\n",
       "    <tr>\n",
       "      <th>3</th>\n",
       "      <td>15.58</td>\n",
       "      <td>28.789111</td>\n",
       "      <td>41.00</td>\n",
       "    </tr>\n",
       "    <tr>\n",
       "      <th>4</th>\n",
       "      <td>5.74</td>\n",
       "      <td>16.649239</td>\n",
       "      <td>30.34</td>\n",
       "    </tr>\n",
       "  </tbody>\n",
       "</table>\n",
       "</div>"
      ],
      "text/plain": [
       "          min       mean    max\n",
       "season                         \n",
       "1        0.82  12.530491  29.52\n",
       "2        9.84  22.823483  38.54\n",
       "3       15.58  28.789111  41.00\n",
       "4        5.74  16.649239  30.34"
      ]
     },
     "execution_count": 277,
     "metadata": {},
     "output_type": "execute_result"
    }
   ],
   "source": [
    "df.groupby(\"season\").temp.agg([\"min\", \"mean\", \"max\"])"
   ]
  },
  {
   "cell_type": "code",
   "execution_count": 278,
   "metadata": {
    "ExecuteTime": {
     "end_time": "2019-09-22T23:58:33.162163Z",
     "start_time": "2019-09-22T23:58:33.148515Z"
    }
   },
   "outputs": [
    {
     "data": {
      "text/html": [
       "<div>\n",
       "<style scoped>\n",
       "    .dataframe tbody tr th:only-of-type {\n",
       "        vertical-align: middle;\n",
       "    }\n",
       "\n",
       "    .dataframe tbody tr th {\n",
       "        vertical-align: top;\n",
       "    }\n",
       "\n",
       "    .dataframe thead th {\n",
       "        text-align: right;\n",
       "    }\n",
       "</style>\n",
       "<table border=\"1\" class=\"dataframe\">\n",
       "  <thead>\n",
       "    <tr style=\"text-align: right;\">\n",
       "      <th></th>\n",
       "      <th>min</th>\n",
       "      <th>mean</th>\n",
       "      <th>max</th>\n",
       "    </tr>\n",
       "    <tr>\n",
       "      <th>season_name</th>\n",
       "      <th></th>\n",
       "      <th></th>\n",
       "      <th></th>\n",
       "    </tr>\n",
       "  </thead>\n",
       "  <tbody>\n",
       "    <tr>\n",
       "      <th>3</th>\n",
       "      <td>15.58</td>\n",
       "      <td>28.789111</td>\n",
       "      <td>41.00</td>\n",
       "    </tr>\n",
       "    <tr>\n",
       "      <th>spring</th>\n",
       "      <td>0.82</td>\n",
       "      <td>12.530491</td>\n",
       "      <td>29.52</td>\n",
       "    </tr>\n",
       "    <tr>\n",
       "      <th>summer</th>\n",
       "      <td>9.84</td>\n",
       "      <td>22.823483</td>\n",
       "      <td>38.54</td>\n",
       "    </tr>\n",
       "    <tr>\n",
       "      <th>winter</th>\n",
       "      <td>5.74</td>\n",
       "      <td>16.649239</td>\n",
       "      <td>30.34</td>\n",
       "    </tr>\n",
       "  </tbody>\n",
       "</table>\n",
       "</div>"
      ],
      "text/plain": [
       "               min       mean    max\n",
       "season_name                         \n",
       "3            15.58  28.789111  41.00\n",
       "spring        0.82  12.530491  29.52\n",
       "summer        9.84  22.823483  38.54\n",
       "winter        5.74  16.649239  30.34"
      ]
     },
     "execution_count": 278,
     "metadata": {},
     "output_type": "execute_result"
    }
   ],
   "source": [
    "df.groupby(\"season_name\").temp.agg([\"min\", \"mean\", \"max\"])"
   ]
  },
  {
   "cell_type": "code",
   "execution_count": 279,
   "metadata": {
    "ExecuteTime": {
     "end_time": "2019-09-22T23:58:33.168581Z",
     "start_time": "2019-09-22T23:58:33.164054Z"
    }
   },
   "outputs": [
    {
     "data": {
      "text/plain": [
       "(10886, 20)"
      ]
     },
     "execution_count": 279,
     "metadata": {},
     "output_type": "execute_result"
    }
   ],
   "source": [
    "df.shape"
   ]
  },
  {
   "cell_type": "code",
   "execution_count": 280,
   "metadata": {
    "ExecuteTime": {
     "end_time": "2019-09-22T23:58:33.187370Z",
     "start_time": "2019-09-22T23:58:33.170353Z"
    }
   },
   "outputs": [
    {
     "data": {
      "text/html": [
       "<div>\n",
       "<style scoped>\n",
       "    .dataframe tbody tr th:only-of-type {\n",
       "        vertical-align: middle;\n",
       "    }\n",
       "\n",
       "    .dataframe tbody tr th {\n",
       "        vertical-align: top;\n",
       "    }\n",
       "\n",
       "    .dataframe thead th {\n",
       "        text-align: right;\n",
       "    }\n",
       "</style>\n",
       "<table border=\"1\" class=\"dataframe\">\n",
       "  <thead>\n",
       "    <tr style=\"text-align: right;\">\n",
       "      <th></th>\n",
       "      <th>datetime</th>\n",
       "      <th>season</th>\n",
       "      <th>holiday</th>\n",
       "      <th>workingday</th>\n",
       "      <th>weather</th>\n",
       "      <th>temp</th>\n",
       "      <th>atemp</th>\n",
       "      <th>humidity</th>\n",
       "      <th>windspeed</th>\n",
       "      <th>casual</th>\n",
       "      <th>registered</th>\n",
       "      <th>count</th>\n",
       "      <th>year</th>\n",
       "      <th>month_name</th>\n",
       "      <th>month</th>\n",
       "      <th>weekday_name</th>\n",
       "      <th>weekday</th>\n",
       "      <th>day</th>\n",
       "      <th>hour</th>\n",
       "      <th>season_name</th>\n",
       "    </tr>\n",
       "  </thead>\n",
       "  <tbody>\n",
       "    <tr>\n",
       "      <th>0</th>\n",
       "      <td>2011-01-01 00:00:00</td>\n",
       "      <td>1</td>\n",
       "      <td>No</td>\n",
       "      <td>No</td>\n",
       "      <td>Dégagé à nuageux</td>\n",
       "      <td>9.84</td>\n",
       "      <td>14.395</td>\n",
       "      <td>81</td>\n",
       "      <td>0.0</td>\n",
       "      <td>3</td>\n",
       "      <td>13</td>\n",
       "      <td>16</td>\n",
       "      <td>2011</td>\n",
       "      <td>January</td>\n",
       "      <td>1</td>\n",
       "      <td>Saturday</td>\n",
       "      <td>5</td>\n",
       "      <td>1</td>\n",
       "      <td>0</td>\n",
       "      <td>spring</td>\n",
       "    </tr>\n",
       "    <tr>\n",
       "      <th>1</th>\n",
       "      <td>2011-01-01 01:00:00</td>\n",
       "      <td>1</td>\n",
       "      <td>No</td>\n",
       "      <td>No</td>\n",
       "      <td>Dégagé à nuageux</td>\n",
       "      <td>9.02</td>\n",
       "      <td>13.635</td>\n",
       "      <td>80</td>\n",
       "      <td>0.0</td>\n",
       "      <td>8</td>\n",
       "      <td>32</td>\n",
       "      <td>40</td>\n",
       "      <td>2011</td>\n",
       "      <td>January</td>\n",
       "      <td>1</td>\n",
       "      <td>Saturday</td>\n",
       "      <td>5</td>\n",
       "      <td>1</td>\n",
       "      <td>1</td>\n",
       "      <td>spring</td>\n",
       "    </tr>\n",
       "    <tr>\n",
       "      <th>2</th>\n",
       "      <td>2011-01-01 02:00:00</td>\n",
       "      <td>1</td>\n",
       "      <td>No</td>\n",
       "      <td>No</td>\n",
       "      <td>Dégagé à nuageux</td>\n",
       "      <td>9.02</td>\n",
       "      <td>13.635</td>\n",
       "      <td>80</td>\n",
       "      <td>0.0</td>\n",
       "      <td>5</td>\n",
       "      <td>27</td>\n",
       "      <td>32</td>\n",
       "      <td>2011</td>\n",
       "      <td>January</td>\n",
       "      <td>1</td>\n",
       "      <td>Saturday</td>\n",
       "      <td>5</td>\n",
       "      <td>1</td>\n",
       "      <td>2</td>\n",
       "      <td>spring</td>\n",
       "    </tr>\n",
       "    <tr>\n",
       "      <th>3</th>\n",
       "      <td>2011-01-01 03:00:00</td>\n",
       "      <td>1</td>\n",
       "      <td>No</td>\n",
       "      <td>No</td>\n",
       "      <td>Dégagé à nuageux</td>\n",
       "      <td>9.84</td>\n",
       "      <td>14.395</td>\n",
       "      <td>75</td>\n",
       "      <td>0.0</td>\n",
       "      <td>3</td>\n",
       "      <td>10</td>\n",
       "      <td>13</td>\n",
       "      <td>2011</td>\n",
       "      <td>January</td>\n",
       "      <td>1</td>\n",
       "      <td>Saturday</td>\n",
       "      <td>5</td>\n",
       "      <td>1</td>\n",
       "      <td>3</td>\n",
       "      <td>spring</td>\n",
       "    </tr>\n",
       "    <tr>\n",
       "      <th>4</th>\n",
       "      <td>2011-01-01 04:00:00</td>\n",
       "      <td>1</td>\n",
       "      <td>No</td>\n",
       "      <td>No</td>\n",
       "      <td>Dégagé à nuageux</td>\n",
       "      <td>9.84</td>\n",
       "      <td>14.395</td>\n",
       "      <td>75</td>\n",
       "      <td>0.0</td>\n",
       "      <td>0</td>\n",
       "      <td>1</td>\n",
       "      <td>1</td>\n",
       "      <td>2011</td>\n",
       "      <td>January</td>\n",
       "      <td>1</td>\n",
       "      <td>Saturday</td>\n",
       "      <td>5</td>\n",
       "      <td>1</td>\n",
       "      <td>4</td>\n",
       "      <td>spring</td>\n",
       "    </tr>\n",
       "  </tbody>\n",
       "</table>\n",
       "</div>"
      ],
      "text/plain": [
       "             datetime  season holiday workingday           weather  temp  \\\n",
       "0 2011-01-01 00:00:00       1      No         No  Dégagé à nuageux  9.84   \n",
       "1 2011-01-01 01:00:00       1      No         No  Dégagé à nuageux  9.02   \n",
       "2 2011-01-01 02:00:00       1      No         No  Dégagé à nuageux  9.02   \n",
       "3 2011-01-01 03:00:00       1      No         No  Dégagé à nuageux  9.84   \n",
       "4 2011-01-01 04:00:00       1      No         No  Dégagé à nuageux  9.84   \n",
       "\n",
       "    atemp  humidity  windspeed  casual  registered  count  year month_name  \\\n",
       "0  14.395        81        0.0       3          13     16  2011    January   \n",
       "1  13.635        80        0.0       8          32     40  2011    January   \n",
       "2  13.635        80        0.0       5          27     32  2011    January   \n",
       "3  14.395        75        0.0       3          10     13  2011    January   \n",
       "4  14.395        75        0.0       0           1      1  2011    January   \n",
       "\n",
       "   month weekday_name  weekday  day  hour season_name  \n",
       "0      1     Saturday        5    1     0      spring  \n",
       "1      1     Saturday        5    1     1      spring  \n",
       "2      1     Saturday        5    1     2      spring  \n",
       "3      1     Saturday        5    1     3      spring  \n",
       "4      1     Saturday        5    1     4      spring  "
      ]
     },
     "execution_count": 280,
     "metadata": {},
     "output_type": "execute_result"
    }
   ],
   "source": [
    "df.head()"
   ]
  },
  {
   "cell_type": "code",
   "execution_count": 281,
   "metadata": {
    "ExecuteTime": {
     "end_time": "2019-09-22T23:58:33.201284Z",
     "start_time": "2019-09-22T23:58:33.189413Z"
    },
    "scrolled": false
   },
   "outputs": [],
   "source": [
    "for i in winter_index_11:\n",
    "    df.iat[i,19] = \"winter\""
   ]
  },
  {
   "cell_type": "code",
   "execution_count": 282,
   "metadata": {
    "ExecuteTime": {
     "end_time": "2019-09-22T23:58:33.206346Z",
     "start_time": "2019-09-22T23:58:33.203325Z"
    }
   },
   "outputs": [],
   "source": [
    "for i in winter_index_12:\n",
    "    df.iat[i,19] = \"winter\""
   ]
  },
  {
   "cell_type": "code",
   "execution_count": 283,
   "metadata": {
    "ExecuteTime": {
     "end_time": "2019-09-22T23:58:33.221129Z",
     "start_time": "2019-09-22T23:58:33.208502Z"
    }
   },
   "outputs": [],
   "source": [
    "for i in spring_index_11:\n",
    "    df.iat[i,19] = \"spring\""
   ]
  },
  {
   "cell_type": "code",
   "execution_count": 284,
   "metadata": {
    "ExecuteTime": {
     "end_time": "2019-09-22T23:58:33.235784Z",
     "start_time": "2019-09-22T23:58:33.222837Z"
    }
   },
   "outputs": [],
   "source": [
    "for i in spring_index_12:\n",
    "    df.iat[i,19] = \"spring\""
   ]
  },
  {
   "cell_type": "code",
   "execution_count": 285,
   "metadata": {
    "ExecuteTime": {
     "end_time": "2019-09-22T23:58:33.249546Z",
     "start_time": "2019-09-22T23:58:33.237500Z"
    }
   },
   "outputs": [],
   "source": [
    "for i in summer_index_11:\n",
    "    df.iat[i,19] = \"summer\""
   ]
  },
  {
   "cell_type": "code",
   "execution_count": 286,
   "metadata": {
    "ExecuteTime": {
     "end_time": "2019-09-22T23:58:33.264385Z",
     "start_time": "2019-09-22T23:58:33.251407Z"
    }
   },
   "outputs": [],
   "source": [
    "for i in summer_index_12:\n",
    "    df.iat[i,19] = \"summer\""
   ]
  },
  {
   "cell_type": "code",
   "execution_count": 287,
   "metadata": {
    "ExecuteTime": {
     "end_time": "2019-09-22T23:58:33.277907Z",
     "start_time": "2019-09-22T23:58:33.265836Z"
    }
   },
   "outputs": [],
   "source": [
    "for i in fall_index_11:\n",
    "    df.iat[i,19] = \"fall\""
   ]
  },
  {
   "cell_type": "code",
   "execution_count": 288,
   "metadata": {
    "ExecuteTime": {
     "end_time": "2019-09-22T23:58:33.292678Z",
     "start_time": "2019-09-22T23:58:33.279849Z"
    }
   },
   "outputs": [],
   "source": [
    "for i in fall_index_12:\n",
    "    df.iat[i,19] = \"fall\""
   ]
  },
  {
   "cell_type": "code",
   "execution_count": 289,
   "metadata": {
    "ExecuteTime": {
     "end_time": "2019-09-22T23:58:33.306720Z",
     "start_time": "2019-09-22T23:58:33.294554Z"
    },
    "scrolled": false
   },
   "outputs": [
    {
     "data": {
      "text/html": [
       "<div>\n",
       "<style scoped>\n",
       "    .dataframe tbody tr th:only-of-type {\n",
       "        vertical-align: middle;\n",
       "    }\n",
       "\n",
       "    .dataframe tbody tr th {\n",
       "        vertical-align: top;\n",
       "    }\n",
       "\n",
       "    .dataframe thead th {\n",
       "        text-align: right;\n",
       "    }\n",
       "</style>\n",
       "<table border=\"1\" class=\"dataframe\">\n",
       "  <thead>\n",
       "    <tr style=\"text-align: right;\">\n",
       "      <th></th>\n",
       "      <th>min</th>\n",
       "      <th>mean</th>\n",
       "      <th>max</th>\n",
       "    </tr>\n",
       "    <tr>\n",
       "      <th>season</th>\n",
       "      <th></th>\n",
       "      <th></th>\n",
       "      <th></th>\n",
       "    </tr>\n",
       "  </thead>\n",
       "  <tbody>\n",
       "    <tr>\n",
       "      <th>1</th>\n",
       "      <td>0.82</td>\n",
       "      <td>12.530491</td>\n",
       "      <td>29.52</td>\n",
       "    </tr>\n",
       "    <tr>\n",
       "      <th>2</th>\n",
       "      <td>9.84</td>\n",
       "      <td>22.823483</td>\n",
       "      <td>38.54</td>\n",
       "    </tr>\n",
       "    <tr>\n",
       "      <th>3</th>\n",
       "      <td>15.58</td>\n",
       "      <td>28.789111</td>\n",
       "      <td>41.00</td>\n",
       "    </tr>\n",
       "    <tr>\n",
       "      <th>4</th>\n",
       "      <td>5.74</td>\n",
       "      <td>16.649239</td>\n",
       "      <td>30.34</td>\n",
       "    </tr>\n",
       "  </tbody>\n",
       "</table>\n",
       "</div>"
      ],
      "text/plain": [
       "          min       mean    max\n",
       "season                         \n",
       "1        0.82  12.530491  29.52\n",
       "2        9.84  22.823483  38.54\n",
       "3       15.58  28.789111  41.00\n",
       "4        5.74  16.649239  30.34"
      ]
     },
     "execution_count": 289,
     "metadata": {},
     "output_type": "execute_result"
    }
   ],
   "source": [
    "df.groupby(\"season\").temp.agg([\"min\", \"mean\", \"max\"])"
   ]
  },
  {
   "cell_type": "code",
   "execution_count": 290,
   "metadata": {
    "ExecuteTime": {
     "end_time": "2019-09-22T23:58:33.329054Z",
     "start_time": "2019-09-22T23:58:33.308661Z"
    },
    "scrolled": true
   },
   "outputs": [
    {
     "data": {
      "text/html": [
       "<div>\n",
       "<style scoped>\n",
       "    .dataframe tbody tr th:only-of-type {\n",
       "        vertical-align: middle;\n",
       "    }\n",
       "\n",
       "    .dataframe tbody tr th {\n",
       "        vertical-align: top;\n",
       "    }\n",
       "\n",
       "    .dataframe thead th {\n",
       "        text-align: right;\n",
       "    }\n",
       "</style>\n",
       "<table border=\"1\" class=\"dataframe\">\n",
       "  <thead>\n",
       "    <tr style=\"text-align: right;\">\n",
       "      <th></th>\n",
       "      <th>datetime</th>\n",
       "      <th>season</th>\n",
       "      <th>holiday</th>\n",
       "      <th>workingday</th>\n",
       "      <th>weather</th>\n",
       "      <th>temp</th>\n",
       "      <th>atemp</th>\n",
       "      <th>humidity</th>\n",
       "      <th>windspeed</th>\n",
       "      <th>casual</th>\n",
       "      <th>registered</th>\n",
       "      <th>count</th>\n",
       "      <th>year</th>\n",
       "      <th>month_name</th>\n",
       "      <th>month</th>\n",
       "      <th>weekday_name</th>\n",
       "      <th>weekday</th>\n",
       "      <th>day</th>\n",
       "      <th>hour</th>\n",
       "    </tr>\n",
       "    <tr>\n",
       "      <th>season_name</th>\n",
       "      <th></th>\n",
       "      <th></th>\n",
       "      <th></th>\n",
       "      <th></th>\n",
       "      <th></th>\n",
       "      <th></th>\n",
       "      <th></th>\n",
       "      <th></th>\n",
       "      <th></th>\n",
       "      <th></th>\n",
       "      <th></th>\n",
       "      <th></th>\n",
       "      <th></th>\n",
       "      <th></th>\n",
       "      <th></th>\n",
       "      <th></th>\n",
       "      <th></th>\n",
       "      <th></th>\n",
       "      <th></th>\n",
       "    </tr>\n",
       "  </thead>\n",
       "  <tbody>\n",
       "    <tr>\n",
       "      <th>fall</th>\n",
       "      <td>2734</td>\n",
       "      <td>2734</td>\n",
       "      <td>2734</td>\n",
       "      <td>2734</td>\n",
       "      <td>2734</td>\n",
       "      <td>2734</td>\n",
       "      <td>2734</td>\n",
       "      <td>2734</td>\n",
       "      <td>2734</td>\n",
       "      <td>2734</td>\n",
       "      <td>2734</td>\n",
       "      <td>2734</td>\n",
       "      <td>2734</td>\n",
       "      <td>2734</td>\n",
       "      <td>2734</td>\n",
       "      <td>2734</td>\n",
       "      <td>2734</td>\n",
       "      <td>2734</td>\n",
       "      <td>2734</td>\n",
       "    </tr>\n",
       "    <tr>\n",
       "      <th>spring</th>\n",
       "      <td>4096</td>\n",
       "      <td>4096</td>\n",
       "      <td>4096</td>\n",
       "      <td>4096</td>\n",
       "      <td>4096</td>\n",
       "      <td>4096</td>\n",
       "      <td>4096</td>\n",
       "      <td>4096</td>\n",
       "      <td>4096</td>\n",
       "      <td>4096</td>\n",
       "      <td>4096</td>\n",
       "      <td>4096</td>\n",
       "      <td>4096</td>\n",
       "      <td>4096</td>\n",
       "      <td>4096</td>\n",
       "      <td>4096</td>\n",
       "      <td>4096</td>\n",
       "      <td>4096</td>\n",
       "      <td>4096</td>\n",
       "    </tr>\n",
       "    <tr>\n",
       "      <th>summer</th>\n",
       "      <td>2733</td>\n",
       "      <td>2733</td>\n",
       "      <td>2733</td>\n",
       "      <td>2733</td>\n",
       "      <td>2733</td>\n",
       "      <td>2733</td>\n",
       "      <td>2733</td>\n",
       "      <td>2733</td>\n",
       "      <td>2733</td>\n",
       "      <td>2733</td>\n",
       "      <td>2733</td>\n",
       "      <td>2733</td>\n",
       "      <td>2733</td>\n",
       "      <td>2733</td>\n",
       "      <td>2733</td>\n",
       "      <td>2733</td>\n",
       "      <td>2733</td>\n",
       "      <td>2733</td>\n",
       "      <td>2733</td>\n",
       "    </tr>\n",
       "    <tr>\n",
       "      <th>winter</th>\n",
       "      <td>1323</td>\n",
       "      <td>1323</td>\n",
       "      <td>1323</td>\n",
       "      <td>1323</td>\n",
       "      <td>1323</td>\n",
       "      <td>1323</td>\n",
       "      <td>1323</td>\n",
       "      <td>1323</td>\n",
       "      <td>1323</td>\n",
       "      <td>1323</td>\n",
       "      <td>1323</td>\n",
       "      <td>1323</td>\n",
       "      <td>1323</td>\n",
       "      <td>1323</td>\n",
       "      <td>1323</td>\n",
       "      <td>1323</td>\n",
       "      <td>1323</td>\n",
       "      <td>1323</td>\n",
       "      <td>1323</td>\n",
       "    </tr>\n",
       "  </tbody>\n",
       "</table>\n",
       "</div>"
      ],
      "text/plain": [
       "             datetime  season  holiday  workingday  weather  temp  atemp  \\\n",
       "season_name                                                                \n",
       "fall             2734    2734     2734        2734     2734  2734   2734   \n",
       "spring           4096    4096     4096        4096     4096  4096   4096   \n",
       "summer           2733    2733     2733        2733     2733  2733   2733   \n",
       "winter           1323    1323     1323        1323     1323  1323   1323   \n",
       "\n",
       "             humidity  windspeed  casual  registered  count  year  month_name  \\\n",
       "season_name                                                                     \n",
       "fall             2734       2734    2734        2734   2734  2734        2734   \n",
       "spring           4096       4096    4096        4096   4096  4096        4096   \n",
       "summer           2733       2733    2733        2733   2733  2733        2733   \n",
       "winter           1323       1323    1323        1323   1323  1323        1323   \n",
       "\n",
       "             month  weekday_name  weekday   day  hour  \n",
       "season_name                                            \n",
       "fall          2734          2734     2734  2734  2734  \n",
       "spring        4096          4096     4096  4096  4096  \n",
       "summer        2733          2733     2733  2733  2733  \n",
       "winter        1323          1323     1323  1323  1323  "
      ]
     },
     "execution_count": 290,
     "metadata": {},
     "output_type": "execute_result"
    }
   ],
   "source": [
    "df.groupby(\"season_name\").count()"
   ]
  },
  {
   "cell_type": "code",
   "execution_count": 291,
   "metadata": {
    "ExecuteTime": {
     "end_time": "2019-09-22T23:58:33.343626Z",
     "start_time": "2019-09-22T23:58:33.331566Z"
    },
    "scrolled": true
   },
   "outputs": [
    {
     "data": {
      "text/html": [
       "<div>\n",
       "<style scoped>\n",
       "    .dataframe tbody tr th:only-of-type {\n",
       "        vertical-align: middle;\n",
       "    }\n",
       "\n",
       "    .dataframe tbody tr th {\n",
       "        vertical-align: top;\n",
       "    }\n",
       "\n",
       "    .dataframe thead th {\n",
       "        text-align: right;\n",
       "    }\n",
       "</style>\n",
       "<table border=\"1\" class=\"dataframe\">\n",
       "  <thead>\n",
       "    <tr style=\"text-align: right;\">\n",
       "      <th></th>\n",
       "      <th>min</th>\n",
       "      <th>mean</th>\n",
       "      <th>max</th>\n",
       "    </tr>\n",
       "    <tr>\n",
       "      <th>season_name</th>\n",
       "      <th></th>\n",
       "      <th></th>\n",
       "      <th></th>\n",
       "    </tr>\n",
       "  </thead>\n",
       "  <tbody>\n",
       "    <tr>\n",
       "      <th>fall</th>\n",
       "      <td>5.74</td>\n",
       "      <td>16.649239</td>\n",
       "      <td>30.34</td>\n",
       "    </tr>\n",
       "    <tr>\n",
       "      <th>spring</th>\n",
       "      <td>0.82</td>\n",
       "      <td>19.772090</td>\n",
       "      <td>38.54</td>\n",
       "    </tr>\n",
       "    <tr>\n",
       "      <th>summer</th>\n",
       "      <td>15.58</td>\n",
       "      <td>28.789111</td>\n",
       "      <td>41.00</td>\n",
       "    </tr>\n",
       "    <tr>\n",
       "      <th>winter</th>\n",
       "      <td>2.46</td>\n",
       "      <td>11.373394</td>\n",
       "      <td>28.70</td>\n",
       "    </tr>\n",
       "  </tbody>\n",
       "</table>\n",
       "</div>"
      ],
      "text/plain": [
       "               min       mean    max\n",
       "season_name                         \n",
       "fall          5.74  16.649239  30.34\n",
       "spring        0.82  19.772090  38.54\n",
       "summer       15.58  28.789111  41.00\n",
       "winter        2.46  11.373394  28.70"
      ]
     },
     "execution_count": 291,
     "metadata": {},
     "output_type": "execute_result"
    }
   ],
   "source": [
    "df.groupby(\"season_name\").temp.agg([\"min\", \"mean\", \"max\"])"
   ]
  },
  {
   "cell_type": "code",
   "execution_count": 292,
   "metadata": {
    "ExecuteTime": {
     "end_time": "2019-09-22T23:58:34.006856Z",
     "start_time": "2019-09-22T23:58:33.345936Z"
    },
    "scrolled": true
   },
   "outputs": [
    {
     "data": {
      "image/png": "[encoded data removed]",
      "text/plain": [
       "<Figure size 360x360 with 1 Axes>"
      ]
     },
     "metadata": {
      "needs_background": "light"
     },
     "output_type": "display_data"
    },
    {
     "data": {
      "image/png": "[encoded data removed]",
      "text/plain": [
       "<Figure size 360x360 with 1 Axes>"
      ]
     },
     "metadata": {
      "needs_background": "light"
     },
     "output_type": "display_data"
    },
    {
     "data": {
      "image/png": "[encoded data removed]",
      "text/plain": [
       "<Figure size 360x360 with 1 Axes>"
      ]
     },
     "metadata": {
      "needs_background": "light"
     },
     "output_type": "display_data"
    }
   ],
   "source": [
    "lst = [\"temp\", \"humidity\", \"windspeed\"]\n",
    "\n",
    "for i in lst:\n",
    "    plt.figure(figsize=(5,5))\n",
    "    sns.lineplot(x=df[i], y=\"count\", hue=\"workingday\", data=df, ci=None)\n",
    "    plt.title(\"Users repartition regarding temp & workingday\")\n",
    "    \n",
    "    plt.show()"
   ]
  },
  {
   "cell_type": "code",
   "execution_count": 293,
   "metadata": {
    "ExecuteTime": {
     "end_time": "2019-09-22T23:58:34.598990Z",
     "start_time": "2019-09-22T23:58:34.009250Z"
    }
   },
   "outputs": [
    {
     "data": {
      "image/png": "[encoded data removed]",
      "text/plain": [
       "<Figure size 360x360 with 1 Axes>"
      ]
     },
     "metadata": {
      "needs_background": "light"
     },
     "output_type": "display_data"
    },
    {
     "data": {
      "image/png": "[encoded data removed]",
      "text/plain": [
       "<Figure size 360x360 with 1 Axes>"
      ]
     },
     "metadata": {
      "needs_background": "light"
     },
     "output_type": "display_data"
    },
    {
     "data": {
      "image/png": "[encoded data removed]",
      "text/plain": [
       "<Figure size 360x360 with 1 Axes>"
      ]
     },
     "metadata": {
      "needs_background": "light"
     },
     "output_type": "display_data"
    }
   ],
   "source": [
    "lst = [\"temp\", \"humidity\", \"windspeed\"]\n",
    "\n",
    "for i in lst:\n",
    "    plt.figure(figsize=(5,5))\n",
    "    sns.lineplot(x=df[i], y=\"count\", hue=\"holiday\", data=df, ci=None)\n",
    "    plt.show()"
   ]
  },
  {
   "cell_type": "code",
   "execution_count": 294,
   "metadata": {
    "ExecuteTime": {
     "end_time": "2019-09-22T23:58:34.614585Z",
     "start_time": "2019-09-22T23:58:34.605716Z"
    }
   },
   "outputs": [
    {
     "data": {
      "text/plain": [
       "season_name\n",
       "fall     2012-12-19 23:00:00\n",
       "spring   2012-06-19 23:00:00\n",
       "summer   2012-09-19 23:00:00\n",
       "winter   2011-03-19 23:00:00\n",
       "Name: datetime, dtype: datetime64[ns]"
      ]
     },
     "execution_count": 294,
     "metadata": {},
     "output_type": "execute_result"
    }
   ],
   "source": [
    "df.groupby(\"season_name\")[\"datetime\"].max()"
   ]
  },
  {
   "cell_type": "code",
   "execution_count": 295,
   "metadata": {
    "ExecuteTime": {
     "end_time": "2019-09-22T23:58:34.626606Z",
     "start_time": "2019-09-22T23:58:34.617776Z"
    }
   },
   "outputs": [
    {
     "data": {
      "text/plain": [
       "season_name\n",
       "fall     2011-10-01\n",
       "spring   2011-04-01\n",
       "summer   2011-07-01\n",
       "winter   2011-01-01\n",
       "Name: datetime, dtype: datetime64[ns]"
      ]
     },
     "execution_count": 295,
     "metadata": {},
     "output_type": "execute_result"
    }
   ],
   "source": [
    "df.groupby(\"season_name\")[\"datetime\"].min()"
   ]
  },
  {
   "cell_type": "code",
   "execution_count": 296,
   "metadata": {
    "ExecuteTime": {
     "end_time": "2019-09-22T23:58:36.902087Z",
     "start_time": "2019-09-22T23:58:34.629596Z"
    }
   },
   "outputs": [
    {
     "data": {
      "text/plain": [
       "<Figure size 360x360 with 0 Axes>"
      ]
     },
     "metadata": {},
     "output_type": "display_data"
    },
    {
     "data": {
      "image/png": "[encoded data removed]",
      "text/plain": [
       "<Figure size 454x360 with 1 Axes>"
      ]
     },
     "metadata": {
      "needs_background": "light"
     },
     "output_type": "display_data"
    },
    {
     "data": {
      "text/plain": [
       "<Figure size 360x360 with 0 Axes>"
      ]
     },
     "metadata": {},
     "output_type": "display_data"
    },
    {
     "data": {
      "image/png": "[encoded data removed]",
      "text/plain": [
       "<Figure size 464.375x360 with 1 Axes>"
      ]
     },
     "metadata": {
      "needs_background": "light"
     },
     "output_type": "display_data"
    },
    {
     "data": {
      "text/plain": [
       "<Figure size 360x360 with 0 Axes>"
      ]
     },
     "metadata": {},
     "output_type": "display_data"
    },
    {
     "data": {
      "image/png": "[encoded data removed]",
      "text/plain": [
       "<Figure size 432.5x360 with 1 Axes>"
      ]
     },
     "metadata": {
      "needs_background": "light"
     },
     "output_type": "display_data"
    },
    {
     "data": {
      "text/plain": [
       "<Figure size 360x360 with 0 Axes>"
      ]
     },
     "metadata": {},
     "output_type": "display_data"
    },
    {
     "data": {
      "image/png": "[encoded data removed]",
      "text/plain": [
       "<Figure size 520.875x360 with 1 Axes>"
      ]
     },
     "metadata": {
      "needs_background": "light"
     },
     "output_type": "display_data"
    }
   ],
   "source": [
    "lst = [\"workingday\", \"season_name\", \"holiday\", \"weather\"]\n",
    "\n",
    "for i in lst:\n",
    "    plt.figure(figsize=(5,5))\n",
    "    sns.relplot(x=\"temp\", y=\"count\", data=df, hue=df[i], kind=\"line\", ci=None, aspect=1)\n",
    "    plt.title(\"Users repartition regarding temp & seasons\")\n",
    "    plt.show()"
   ]
  },
  {
   "cell_type": "code",
   "execution_count": 297,
   "metadata": {
    "ExecuteTime": {
     "end_time": "2019-09-22T23:58:38.086908Z",
     "start_time": "2019-09-22T23:58:36.904403Z"
    }
   },
   "outputs": [
    {
     "data": {
      "text/plain": [
       "<Figure size 360x360 with 0 Axes>"
      ]
     },
     "metadata": {},
     "output_type": "display_data"
    },
    {
     "data": {
      "image/png": "[encoded data removed]",
      "text/plain": [
       "<Figure size 1534x360 with 4 Axes>"
      ]
     },
     "metadata": {
      "needs_background": "light"
     },
     "output_type": "display_data"
    }
   ],
   "source": [
    "    plt.figure(figsize=(5,5))\n",
    "    sns.relplot(x=\"temp\", y=\"count\", data=df, hue=\"workingday\", col=\"season_name\", kind=\"line\", ci=None, aspect=1)\n",
    "    plt.show()"
   ]
  },
  {
   "cell_type": "code",
   "execution_count": 298,
   "metadata": {
    "ExecuteTime": {
     "end_time": "2019-09-22T23:58:39.339096Z",
     "start_time": "2019-09-22T23:58:38.088991Z"
    },
    "scrolled": false
   },
   "outputs": [
    {
     "data": {
      "text/plain": [
       "<seaborn.axisgrid.FacetGrid at 0x123b19550>"
      ]
     },
     "execution_count": 298,
     "metadata": {},
     "output_type": "execute_result"
    },
    {
     "data": {
      "image/png": "[encoded data removed]",
      "text/plain": [
       "<Figure size 1534x360 with 4 Axes>"
      ]
     },
     "metadata": {
      "needs_background": "light"
     },
     "output_type": "display_data"
    }
   ],
   "source": [
    "sns.relplot(x=\"temp\", y=\"count\", data=df, hue=\"workingday\", col=\"season_name\", kind=\"line\", ci=None)"
   ]
  },
  {
   "cell_type": "code",
   "execution_count": 299,
   "metadata": {
    "ExecuteTime": {
     "end_time": "2019-09-22T23:58:39.364178Z",
     "start_time": "2019-09-22T23:58:39.341584Z"
    }
   },
   "outputs": [
    {
     "data": {
      "text/html": [
       "<div>\n",
       "<style scoped>\n",
       "    .dataframe tbody tr th:only-of-type {\n",
       "        vertical-align: middle;\n",
       "    }\n",
       "\n",
       "    .dataframe tbody tr th {\n",
       "        vertical-align: top;\n",
       "    }\n",
       "\n",
       "    .dataframe thead th {\n",
       "        text-align: right;\n",
       "    }\n",
       "</style>\n",
       "<table border=\"1\" class=\"dataframe\">\n",
       "  <thead>\n",
       "    <tr style=\"text-align: right;\">\n",
       "      <th></th>\n",
       "      <th>datetime</th>\n",
       "      <th>season</th>\n",
       "      <th>holiday</th>\n",
       "      <th>workingday</th>\n",
       "      <th>weather</th>\n",
       "      <th>temp</th>\n",
       "      <th>atemp</th>\n",
       "      <th>humidity</th>\n",
       "      <th>windspeed</th>\n",
       "      <th>casual</th>\n",
       "      <th>registered</th>\n",
       "      <th>count</th>\n",
       "      <th>year</th>\n",
       "      <th>month_name</th>\n",
       "      <th>month</th>\n",
       "      <th>weekday_name</th>\n",
       "      <th>weekday</th>\n",
       "      <th>day</th>\n",
       "      <th>hour</th>\n",
       "      <th>season_name</th>\n",
       "    </tr>\n",
       "  </thead>\n",
       "  <tbody>\n",
       "    <tr>\n",
       "      <th>0</th>\n",
       "      <td>2011-01-01 00:00:00</td>\n",
       "      <td>1</td>\n",
       "      <td>No</td>\n",
       "      <td>No</td>\n",
       "      <td>Dégagé à nuageux</td>\n",
       "      <td>9.84</td>\n",
       "      <td>14.395</td>\n",
       "      <td>81</td>\n",
       "      <td>0.0</td>\n",
       "      <td>3</td>\n",
       "      <td>13</td>\n",
       "      <td>16</td>\n",
       "      <td>2011</td>\n",
       "      <td>January</td>\n",
       "      <td>1</td>\n",
       "      <td>Saturday</td>\n",
       "      <td>5</td>\n",
       "      <td>1</td>\n",
       "      <td>0</td>\n",
       "      <td>winter</td>\n",
       "    </tr>\n",
       "    <tr>\n",
       "      <th>1</th>\n",
       "      <td>2011-01-01 01:00:00</td>\n",
       "      <td>1</td>\n",
       "      <td>No</td>\n",
       "      <td>No</td>\n",
       "      <td>Dégagé à nuageux</td>\n",
       "      <td>9.02</td>\n",
       "      <td>13.635</td>\n",
       "      <td>80</td>\n",
       "      <td>0.0</td>\n",
       "      <td>8</td>\n",
       "      <td>32</td>\n",
       "      <td>40</td>\n",
       "      <td>2011</td>\n",
       "      <td>January</td>\n",
       "      <td>1</td>\n",
       "      <td>Saturday</td>\n",
       "      <td>5</td>\n",
       "      <td>1</td>\n",
       "      <td>1</td>\n",
       "      <td>winter</td>\n",
       "    </tr>\n",
       "    <tr>\n",
       "      <th>2</th>\n",
       "      <td>2011-01-01 02:00:00</td>\n",
       "      <td>1</td>\n",
       "      <td>No</td>\n",
       "      <td>No</td>\n",
       "      <td>Dégagé à nuageux</td>\n",
       "      <td>9.02</td>\n",
       "      <td>13.635</td>\n",
       "      <td>80</td>\n",
       "      <td>0.0</td>\n",
       "      <td>5</td>\n",
       "      <td>27</td>\n",
       "      <td>32</td>\n",
       "      <td>2011</td>\n",
       "      <td>January</td>\n",
       "      <td>1</td>\n",
       "      <td>Saturday</td>\n",
       "      <td>5</td>\n",
       "      <td>1</td>\n",
       "      <td>2</td>\n",
       "      <td>winter</td>\n",
       "    </tr>\n",
       "    <tr>\n",
       "      <th>3</th>\n",
       "      <td>2011-01-01 03:00:00</td>\n",
       "      <td>1</td>\n",
       "      <td>No</td>\n",
       "      <td>No</td>\n",
       "      <td>Dégagé à nuageux</td>\n",
       "      <td>9.84</td>\n",
       "      <td>14.395</td>\n",
       "      <td>75</td>\n",
       "      <td>0.0</td>\n",
       "      <td>3</td>\n",
       "      <td>10</td>\n",
       "      <td>13</td>\n",
       "      <td>2011</td>\n",
       "      <td>January</td>\n",
       "      <td>1</td>\n",
       "      <td>Saturday</td>\n",
       "      <td>5</td>\n",
       "      <td>1</td>\n",
       "      <td>3</td>\n",
       "      <td>winter</td>\n",
       "    </tr>\n",
       "    <tr>\n",
       "      <th>4</th>\n",
       "      <td>2011-01-01 04:00:00</td>\n",
       "      <td>1</td>\n",
       "      <td>No</td>\n",
       "      <td>No</td>\n",
       "      <td>Dégagé à nuageux</td>\n",
       "      <td>9.84</td>\n",
       "      <td>14.395</td>\n",
       "      <td>75</td>\n",
       "      <td>0.0</td>\n",
       "      <td>0</td>\n",
       "      <td>1</td>\n",
       "      <td>1</td>\n",
       "      <td>2011</td>\n",
       "      <td>January</td>\n",
       "      <td>1</td>\n",
       "      <td>Saturday</td>\n",
       "      <td>5</td>\n",
       "      <td>1</td>\n",
       "      <td>4</td>\n",
       "      <td>winter</td>\n",
       "    </tr>\n",
       "  </tbody>\n",
       "</table>\n",
       "</div>"
      ],
      "text/plain": [
       "             datetime  season holiday workingday           weather  temp  \\\n",
       "0 2011-01-01 00:00:00       1      No         No  Dégagé à nuageux  9.84   \n",
       "1 2011-01-01 01:00:00       1      No         No  Dégagé à nuageux  9.02   \n",
       "2 2011-01-01 02:00:00       1      No         No  Dégagé à nuageux  9.02   \n",
       "3 2011-01-01 03:00:00       1      No         No  Dégagé à nuageux  9.84   \n",
       "4 2011-01-01 04:00:00       1      No         No  Dégagé à nuageux  9.84   \n",
       "\n",
       "    atemp  humidity  windspeed  casual  registered  count  year month_name  \\\n",
       "0  14.395        81        0.0       3          13     16  2011    January   \n",
       "1  13.635        80        0.0       8          32     40  2011    January   \n",
       "2  13.635        80        0.0       5          27     32  2011    January   \n",
       "3  14.395        75        0.0       3          10     13  2011    January   \n",
       "4  14.395        75        0.0       0           1      1  2011    January   \n",
       "\n",
       "   month weekday_name  weekday  day  hour season_name  \n",
       "0      1     Saturday        5    1     0      winter  \n",
       "1      1     Saturday        5    1     1      winter  \n",
       "2      1     Saturday        5    1     2      winter  \n",
       "3      1     Saturday        5    1     3      winter  \n",
       "4      1     Saturday        5    1     4      winter  "
      ]
     },
     "execution_count": 299,
     "metadata": {},
     "output_type": "execute_result"
    }
   ],
   "source": [
    "df.head()"
   ]
  },
  {
   "cell_type": "code",
   "execution_count": 300,
   "metadata": {
    "ExecuteTime": {
     "end_time": "2019-09-22T23:58:41.121038Z",
     "start_time": "2019-09-22T23:58:39.366972Z"
    }
   },
   "outputs": [
    {
     "data": {
      "text/plain": [
       "<Figure size 360x360 with 0 Axes>"
      ]
     },
     "metadata": {},
     "output_type": "display_data"
    },
    {
     "data": {
      "image/png": "[encoded data removed]",
      "text/plain": [
       "<Figure size 454x360 with 1 Axes>"
      ]
     },
     "metadata": {
      "needs_background": "light"
     },
     "output_type": "display_data"
    },
    {
     "data": {
      "text/plain": [
       "<Figure size 360x360 with 0 Axes>"
      ]
     },
     "metadata": {},
     "output_type": "display_data"
    },
    {
     "data": {
      "image/png": "[encoded data removed]",
      "text/plain": [
       "<Figure size 464.375x360 with 1 Axes>"
      ]
     },
     "metadata": {
      "needs_background": "light"
     },
     "output_type": "display_data"
    },
    {
     "data": {
      "text/plain": [
       "<Figure size 360x360 with 0 Axes>"
      ]
     },
     "metadata": {},
     "output_type": "display_data"
    },
    {
     "data": {
      "image/png": "[encoded data removed]",
      "text/plain": [
       "<Figure size 432.5x360 with 1 Axes>"
      ]
     },
     "metadata": {
      "needs_background": "light"
     },
     "output_type": "display_data"
    },
    {
     "data": {
      "text/plain": [
       "<Figure size 360x360 with 0 Axes>"
      ]
     },
     "metadata": {},
     "output_type": "display_data"
    },
    {
     "data": {
      "image/png": "[encoded data removed]",
      "text/plain": [
       "<Figure size 520.875x360 with 1 Axes>"
      ]
     },
     "metadata": {
      "needs_background": "light"
     },
     "output_type": "display_data"
    }
   ],
   "source": [
    "lst = [\"workingday\", \"season_name\", \"holiday\", \"weather\"]\n",
    "\n",
    "for i in lst:\n",
    "    plt.figure(figsize=(5,5))\n",
    "    sns.relplot(x=\"temp\", y=\"casual\", data=df, hue=df[i], kind=\"line\", ci=None, aspect=1)\n",
    "    plt.show()"
   ]
  },
  {
   "cell_type": "code",
   "execution_count": 301,
   "metadata": {
    "ExecuteTime": {
     "end_time": "2019-09-22T23:58:41.392200Z",
     "start_time": "2019-09-22T23:58:41.123596Z"
    },
    "scrolled": true
   },
   "outputs": [
    {
     "data": {
      "image/png": "[encoded data removed]",
      "text/plain": [
       "<Figure size 504x360 with 1 Axes>"
      ]
     },
     "metadata": {
      "needs_background": "light"
     },
     "output_type": "display_data"
    }
   ],
   "source": [
    "plt.figure(figsize=(7,5))\n",
    "sns.lineplot(x=\"hour\", y=\"registered\", data=df, ci=None, label=\"registered\")\n",
    "sns.lineplot(x=\"hour\", y=\"casual\", data=df, ci=None, label=\"casual\")\n",
    "\n",
    "plt.title(\"Users repartition by hour\")\n",
    "plt.ylabel(\"count\")\n",
    "plt.legend()\n",
    "\n",
    "plt.show()"
   ]
  },
  {
   "cell_type": "code",
   "execution_count": 302,
   "metadata": {
    "ExecuteTime": {
     "end_time": "2019-09-22T23:58:41.640229Z",
     "start_time": "2019-09-22T23:58:41.394585Z"
    },
    "scrolled": true
   },
   "outputs": [
    {
     "data": {
      "image/png": "[encoded data removed]",
      "text/plain": [
       "<Figure size 504x360 with 1 Axes>"
      ]
     },
     "metadata": {
      "needs_background": "light"
     },
     "output_type": "display_data"
    }
   ],
   "source": [
    "plt.figure(figsize=(7,5))\n",
    "sns.lineplot(x=\"temp\", y=\"registered\", data=df, ci=None, label=\"registered\")\n",
    "sns.lineplot(x=\"temp\", y=\"casual\", data=df, ci=None, label=\"casual\")\n",
    "\n",
    "plt.title(\"Users repartition by temperature\")\n",
    "plt.legend()\n",
    "\n",
    "plt.show()"
   ]
  },
  {
   "cell_type": "code",
   "execution_count": 303,
   "metadata": {
    "ExecuteTime": {
     "end_time": "2019-09-22T23:58:41.911216Z",
     "start_time": "2019-09-22T23:58:41.642565Z"
    }
   },
   "outputs": [
    {
     "data": {
      "image/png": "[encoded data removed]",
      "text/plain": [
       "<Figure size 504x360 with 1 Axes>"
      ]
     },
     "metadata": {
      "needs_background": "light"
     },
     "output_type": "display_data"
    }
   ],
   "source": [
    "plt.figure(figsize=(7,5))\n",
    "sns.lineplot(x=\"humidity\", y=\"registered\", data=df, ci=None, label=\"registered\")\n",
    "sns.lineplot(x=\"humidity\", y=\"casual\", data=df, ci=None, label=\"casual\")\n",
    "\n",
    "plt.title(\"Users repartition by humidity\")\n",
    "plt.legend()\n",
    "\n",
    "plt.show()"
   ]
  },
  {
   "cell_type": "code",
   "execution_count": 304,
   "metadata": {
    "ExecuteTime": {
     "end_time": "2019-09-22T23:58:41.935016Z",
     "start_time": "2019-09-22T23:58:41.913631Z"
    }
   },
   "outputs": [
    {
     "data": {
      "text/html": [
       "<div>\n",
       "<style scoped>\n",
       "    .dataframe tbody tr th:only-of-type {\n",
       "        vertical-align: middle;\n",
       "    }\n",
       "\n",
       "    .dataframe tbody tr th {\n",
       "        vertical-align: top;\n",
       "    }\n",
       "\n",
       "    .dataframe thead th {\n",
       "        text-align: right;\n",
       "    }\n",
       "</style>\n",
       "<table border=\"1\" class=\"dataframe\">\n",
       "  <thead>\n",
       "    <tr style=\"text-align: right;\">\n",
       "      <th></th>\n",
       "      <th>datetime</th>\n",
       "      <th>season</th>\n",
       "      <th>holiday</th>\n",
       "      <th>workingday</th>\n",
       "      <th>weather</th>\n",
       "      <th>temp</th>\n",
       "      <th>atemp</th>\n",
       "      <th>humidity</th>\n",
       "      <th>windspeed</th>\n",
       "      <th>casual</th>\n",
       "      <th>registered</th>\n",
       "      <th>count</th>\n",
       "      <th>year</th>\n",
       "      <th>month_name</th>\n",
       "      <th>month</th>\n",
       "      <th>weekday_name</th>\n",
       "      <th>weekday</th>\n",
       "      <th>day</th>\n",
       "      <th>hour</th>\n",
       "      <th>season_name</th>\n",
       "    </tr>\n",
       "  </thead>\n",
       "  <tbody>\n",
       "    <tr>\n",
       "      <th>0</th>\n",
       "      <td>2011-01-01 00:00:00</td>\n",
       "      <td>1</td>\n",
       "      <td>No</td>\n",
       "      <td>No</td>\n",
       "      <td>Dégagé à nuageux</td>\n",
       "      <td>9.84</td>\n",
       "      <td>14.395</td>\n",
       "      <td>81</td>\n",
       "      <td>0.0</td>\n",
       "      <td>3</td>\n",
       "      <td>13</td>\n",
       "      <td>16</td>\n",
       "      <td>2011</td>\n",
       "      <td>January</td>\n",
       "      <td>1</td>\n",
       "      <td>Saturday</td>\n",
       "      <td>5</td>\n",
       "      <td>1</td>\n",
       "      <td>0</td>\n",
       "      <td>winter</td>\n",
       "    </tr>\n",
       "    <tr>\n",
       "      <th>1</th>\n",
       "      <td>2011-01-01 01:00:00</td>\n",
       "      <td>1</td>\n",
       "      <td>No</td>\n",
       "      <td>No</td>\n",
       "      <td>Dégagé à nuageux</td>\n",
       "      <td>9.02</td>\n",
       "      <td>13.635</td>\n",
       "      <td>80</td>\n",
       "      <td>0.0</td>\n",
       "      <td>8</td>\n",
       "      <td>32</td>\n",
       "      <td>40</td>\n",
       "      <td>2011</td>\n",
       "      <td>January</td>\n",
       "      <td>1</td>\n",
       "      <td>Saturday</td>\n",
       "      <td>5</td>\n",
       "      <td>1</td>\n",
       "      <td>1</td>\n",
       "      <td>winter</td>\n",
       "    </tr>\n",
       "    <tr>\n",
       "      <th>2</th>\n",
       "      <td>2011-01-01 02:00:00</td>\n",
       "      <td>1</td>\n",
       "      <td>No</td>\n",
       "      <td>No</td>\n",
       "      <td>Dégagé à nuageux</td>\n",
       "      <td>9.02</td>\n",
       "      <td>13.635</td>\n",
       "      <td>80</td>\n",
       "      <td>0.0</td>\n",
       "      <td>5</td>\n",
       "      <td>27</td>\n",
       "      <td>32</td>\n",
       "      <td>2011</td>\n",
       "      <td>January</td>\n",
       "      <td>1</td>\n",
       "      <td>Saturday</td>\n",
       "      <td>5</td>\n",
       "      <td>1</td>\n",
       "      <td>2</td>\n",
       "      <td>winter</td>\n",
       "    </tr>\n",
       "    <tr>\n",
       "      <th>3</th>\n",
       "      <td>2011-01-01 03:00:00</td>\n",
       "      <td>1</td>\n",
       "      <td>No</td>\n",
       "      <td>No</td>\n",
       "      <td>Dégagé à nuageux</td>\n",
       "      <td>9.84</td>\n",
       "      <td>14.395</td>\n",
       "      <td>75</td>\n",
       "      <td>0.0</td>\n",
       "      <td>3</td>\n",
       "      <td>10</td>\n",
       "      <td>13</td>\n",
       "      <td>2011</td>\n",
       "      <td>January</td>\n",
       "      <td>1</td>\n",
       "      <td>Saturday</td>\n",
       "      <td>5</td>\n",
       "      <td>1</td>\n",
       "      <td>3</td>\n",
       "      <td>winter</td>\n",
       "    </tr>\n",
       "    <tr>\n",
       "      <th>4</th>\n",
       "      <td>2011-01-01 04:00:00</td>\n",
       "      <td>1</td>\n",
       "      <td>No</td>\n",
       "      <td>No</td>\n",
       "      <td>Dégagé à nuageux</td>\n",
       "      <td>9.84</td>\n",
       "      <td>14.395</td>\n",
       "      <td>75</td>\n",
       "      <td>0.0</td>\n",
       "      <td>0</td>\n",
       "      <td>1</td>\n",
       "      <td>1</td>\n",
       "      <td>2011</td>\n",
       "      <td>January</td>\n",
       "      <td>1</td>\n",
       "      <td>Saturday</td>\n",
       "      <td>5</td>\n",
       "      <td>1</td>\n",
       "      <td>4</td>\n",
       "      <td>winter</td>\n",
       "    </tr>\n",
       "  </tbody>\n",
       "</table>\n",
       "</div>"
      ],
      "text/plain": [
       "             datetime  season holiday workingday           weather  temp  \\\n",
       "0 2011-01-01 00:00:00       1      No         No  Dégagé à nuageux  9.84   \n",
       "1 2011-01-01 01:00:00       1      No         No  Dégagé à nuageux  9.02   \n",
       "2 2011-01-01 02:00:00       1      No         No  Dégagé à nuageux  9.02   \n",
       "3 2011-01-01 03:00:00       1      No         No  Dégagé à nuageux  9.84   \n",
       "4 2011-01-01 04:00:00       1      No         No  Dégagé à nuageux  9.84   \n",
       "\n",
       "    atemp  humidity  windspeed  casual  registered  count  year month_name  \\\n",
       "0  14.395        81        0.0       3          13     16  2011    January   \n",
       "1  13.635        80        0.0       8          32     40  2011    January   \n",
       "2  13.635        80        0.0       5          27     32  2011    January   \n",
       "3  14.395        75        0.0       3          10     13  2011    January   \n",
       "4  14.395        75        0.0       0           1      1  2011    January   \n",
       "\n",
       "   month weekday_name  weekday  day  hour season_name  \n",
       "0      1     Saturday        5    1     0      winter  \n",
       "1      1     Saturday        5    1     1      winter  \n",
       "2      1     Saturday        5    1     2      winter  \n",
       "3      1     Saturday        5    1     3      winter  \n",
       "4      1     Saturday        5    1     4      winter  "
      ]
     },
     "execution_count": 304,
     "metadata": {},
     "output_type": "execute_result"
    }
   ],
   "source": [
    "df.head()"
   ]
  },
  {
   "cell_type": "markdown",
   "metadata": {},
   "source": [
    "# Dummify and Scaling"
   ]
  },
  {
   "cell_type": "code",
   "execution_count": 305,
   "metadata": {
    "ExecuteTime": {
     "end_time": "2019-09-22T23:58:41.945420Z",
     "start_time": "2019-09-22T23:58:41.937050Z"
    }
   },
   "outputs": [],
   "source": [
    "# First of all, we want to select specific columns\n",
    "\n",
    "new_df = df.drop(columns=[\"datetime\", \"season\", \"year\", \"weekday\", \"day\"])"
   ]
  },
  {
   "cell_type": "code",
   "execution_count": 306,
   "metadata": {
    "ExecuteTime": {
     "end_time": "2019-09-22T23:58:41.964015Z",
     "start_time": "2019-09-22T23:58:41.947763Z"
    }
   },
   "outputs": [
    {
     "data": {
      "text/html": [
       "<div>\n",
       "<style scoped>\n",
       "    .dataframe tbody tr th:only-of-type {\n",
       "        vertical-align: middle;\n",
       "    }\n",
       "\n",
       "    .dataframe tbody tr th {\n",
       "        vertical-align: top;\n",
       "    }\n",
       "\n",
       "    .dataframe thead th {\n",
       "        text-align: right;\n",
       "    }\n",
       "</style>\n",
       "<table border=\"1\" class=\"dataframe\">\n",
       "  <thead>\n",
       "    <tr style=\"text-align: right;\">\n",
       "      <th></th>\n",
       "      <th>holiday</th>\n",
       "      <th>workingday</th>\n",
       "      <th>weather</th>\n",
       "      <th>temp</th>\n",
       "      <th>atemp</th>\n",
       "      <th>humidity</th>\n",
       "      <th>windspeed</th>\n",
       "      <th>casual</th>\n",
       "      <th>registered</th>\n",
       "      <th>count</th>\n",
       "      <th>month_name</th>\n",
       "      <th>month</th>\n",
       "      <th>weekday_name</th>\n",
       "      <th>hour</th>\n",
       "      <th>season_name</th>\n",
       "    </tr>\n",
       "  </thead>\n",
       "  <tbody>\n",
       "    <tr>\n",
       "      <th>0</th>\n",
       "      <td>No</td>\n",
       "      <td>No</td>\n",
       "      <td>Dégagé à nuageux</td>\n",
       "      <td>9.84</td>\n",
       "      <td>14.395</td>\n",
       "      <td>81</td>\n",
       "      <td>0.0</td>\n",
       "      <td>3</td>\n",
       "      <td>13</td>\n",
       "      <td>16</td>\n",
       "      <td>January</td>\n",
       "      <td>1</td>\n",
       "      <td>Saturday</td>\n",
       "      <td>0</td>\n",
       "      <td>winter</td>\n",
       "    </tr>\n",
       "    <tr>\n",
       "      <th>1</th>\n",
       "      <td>No</td>\n",
       "      <td>No</td>\n",
       "      <td>Dégagé à nuageux</td>\n",
       "      <td>9.02</td>\n",
       "      <td>13.635</td>\n",
       "      <td>80</td>\n",
       "      <td>0.0</td>\n",
       "      <td>8</td>\n",
       "      <td>32</td>\n",
       "      <td>40</td>\n",
       "      <td>January</td>\n",
       "      <td>1</td>\n",
       "      <td>Saturday</td>\n",
       "      <td>1</td>\n",
       "      <td>winter</td>\n",
       "    </tr>\n",
       "    <tr>\n",
       "      <th>2</th>\n",
       "      <td>No</td>\n",
       "      <td>No</td>\n",
       "      <td>Dégagé à nuageux</td>\n",
       "      <td>9.02</td>\n",
       "      <td>13.635</td>\n",
       "      <td>80</td>\n",
       "      <td>0.0</td>\n",
       "      <td>5</td>\n",
       "      <td>27</td>\n",
       "      <td>32</td>\n",
       "      <td>January</td>\n",
       "      <td>1</td>\n",
       "      <td>Saturday</td>\n",
       "      <td>2</td>\n",
       "      <td>winter</td>\n",
       "    </tr>\n",
       "    <tr>\n",
       "      <th>3</th>\n",
       "      <td>No</td>\n",
       "      <td>No</td>\n",
       "      <td>Dégagé à nuageux</td>\n",
       "      <td>9.84</td>\n",
       "      <td>14.395</td>\n",
       "      <td>75</td>\n",
       "      <td>0.0</td>\n",
       "      <td>3</td>\n",
       "      <td>10</td>\n",
       "      <td>13</td>\n",
       "      <td>January</td>\n",
       "      <td>1</td>\n",
       "      <td>Saturday</td>\n",
       "      <td>3</td>\n",
       "      <td>winter</td>\n",
       "    </tr>\n",
       "    <tr>\n",
       "      <th>4</th>\n",
       "      <td>No</td>\n",
       "      <td>No</td>\n",
       "      <td>Dégagé à nuageux</td>\n",
       "      <td>9.84</td>\n",
       "      <td>14.395</td>\n",
       "      <td>75</td>\n",
       "      <td>0.0</td>\n",
       "      <td>0</td>\n",
       "      <td>1</td>\n",
       "      <td>1</td>\n",
       "      <td>January</td>\n",
       "      <td>1</td>\n",
       "      <td>Saturday</td>\n",
       "      <td>4</td>\n",
       "      <td>winter</td>\n",
       "    </tr>\n",
       "  </tbody>\n",
       "</table>\n",
       "</div>"
      ],
      "text/plain": [
       "  holiday workingday           weather  temp   atemp  humidity  windspeed  \\\n",
       "0      No         No  Dégagé à nuageux  9.84  14.395        81        0.0   \n",
       "1      No         No  Dégagé à nuageux  9.02  13.635        80        0.0   \n",
       "2      No         No  Dégagé à nuageux  9.02  13.635        80        0.0   \n",
       "3      No         No  Dégagé à nuageux  9.84  14.395        75        0.0   \n",
       "4      No         No  Dégagé à nuageux  9.84  14.395        75        0.0   \n",
       "\n",
       "   casual  registered  count month_name  month weekday_name  hour season_name  \n",
       "0       3          13     16    January      1     Saturday     0      winter  \n",
       "1       8          32     40    January      1     Saturday     1      winter  \n",
       "2       5          27     32    January      1     Saturday     2      winter  \n",
       "3       3          10     13    January      1     Saturday     3      winter  \n",
       "4       0           1      1    January      1     Saturday     4      winter  "
      ]
     },
     "execution_count": 306,
     "metadata": {},
     "output_type": "execute_result"
    }
   ],
   "source": [
    "new_df.head()"
   ]
  },
  {
   "cell_type": "code",
   "execution_count": 307,
   "metadata": {
    "ExecuteTime": {
     "end_time": "2019-09-22T23:58:54.129404Z",
     "start_time": "2019-09-22T23:58:54.079310Z"
    }
   },
   "outputs": [
    {
     "data": {
      "text/html": [
       "<div>\n",
       "<style scoped>\n",
       "    .dataframe tbody tr th:only-of-type {\n",
       "        vertical-align: middle;\n",
       "    }\n",
       "\n",
       "    .dataframe tbody tr th {\n",
       "        vertical-align: top;\n",
       "    }\n",
       "\n",
       "    .dataframe thead th {\n",
       "        text-align: right;\n",
       "    }\n",
       "</style>\n",
       "<table border=\"1\" class=\"dataframe\">\n",
       "  <thead>\n",
       "    <tr style=\"text-align: right;\">\n",
       "      <th></th>\n",
       "      <th>temp</th>\n",
       "      <th>atemp</th>\n",
       "      <th>humidity</th>\n",
       "      <th>windspeed</th>\n",
       "    </tr>\n",
       "  </thead>\n",
       "  <tbody>\n",
       "    <tr>\n",
       "      <th>0</th>\n",
       "      <td>-1.333661</td>\n",
       "      <td>-1.092737</td>\n",
       "      <td>0.993213</td>\n",
       "      <td>-1.567754</td>\n",
       "    </tr>\n",
       "    <tr>\n",
       "      <th>1</th>\n",
       "      <td>-1.438907</td>\n",
       "      <td>-1.182421</td>\n",
       "      <td>0.941249</td>\n",
       "      <td>-1.567754</td>\n",
       "    </tr>\n",
       "    <tr>\n",
       "      <th>2</th>\n",
       "      <td>-1.438907</td>\n",
       "      <td>-1.182421</td>\n",
       "      <td>0.941249</td>\n",
       "      <td>-1.567754</td>\n",
       "    </tr>\n",
       "    <tr>\n",
       "      <th>3</th>\n",
       "      <td>-1.333661</td>\n",
       "      <td>-1.092737</td>\n",
       "      <td>0.681430</td>\n",
       "      <td>-1.567754</td>\n",
       "    </tr>\n",
       "    <tr>\n",
       "      <th>4</th>\n",
       "      <td>-1.333661</td>\n",
       "      <td>-1.092737</td>\n",
       "      <td>0.681430</td>\n",
       "      <td>-1.567754</td>\n",
       "    </tr>\n",
       "  </tbody>\n",
       "</table>\n",
       "</div>"
      ],
      "text/plain": [
       "       temp     atemp  humidity  windspeed\n",
       "0 -1.333661 -1.092737  0.993213  -1.567754\n",
       "1 -1.438907 -1.182421  0.941249  -1.567754\n",
       "2 -1.438907 -1.182421  0.941249  -1.567754\n",
       "3 -1.333661 -1.092737  0.681430  -1.567754\n",
       "4 -1.333661 -1.092737  0.681430  -1.567754"
      ]
     },
     "execution_count": 307,
     "metadata": {},
     "output_type": "execute_result"
    }
   ],
   "source": [
    "# Now we want to dummify categorical columns and scale numerical columns\n",
    "\n",
    "cat_cols = [\"holiday\", \"workingday\", \"weather\", \"month_name\", \"weekday_name\", \"season_name\"]\n",
    "num_cols = [\"temp\", \"atemp\", \"humidity\", \"windspeed\"]\n",
    "\n",
    "dummy_df = pd.get_dummies(new_df[cat_cols], drop_first=True)\n",
    "scaled_df = StandardScaler().fit_transform(new_df[num_cols])\n",
    "scaled_df = pd.DataFrame.from_records(scaled_df)\n",
    "scaled_df.columns = num_cols\n",
    "scaled_df.head()"
   ]
  },
  {
   "cell_type": "code",
   "execution_count": 308,
   "metadata": {
    "ExecuteTime": {
     "end_time": "2019-09-22T23:58:56.759385Z",
     "start_time": "2019-09-22T23:58:56.754441Z"
    }
   },
   "outputs": [],
   "source": [
    "# Finally, we want to concatenate the two new dataframe\n",
    "new_df = pd.concat([scaled_df, dummy_df], axis=1)"
   ]
  },
  {
   "cell_type": "code",
   "execution_count": 309,
   "metadata": {
    "ExecuteTime": {
     "end_time": "2019-09-22T23:58:58.589134Z",
     "start_time": "2019-09-22T23:58:58.570189Z"
    }
   },
   "outputs": [
    {
     "data": {
      "text/html": [
       "<div>\n",
       "<style scoped>\n",
       "    .dataframe tbody tr th:only-of-type {\n",
       "        vertical-align: middle;\n",
       "    }\n",
       "\n",
       "    .dataframe tbody tr th {\n",
       "        vertical-align: top;\n",
       "    }\n",
       "\n",
       "    .dataframe thead th {\n",
       "        text-align: right;\n",
       "    }\n",
       "</style>\n",
       "<table border=\"1\" class=\"dataframe\">\n",
       "  <thead>\n",
       "    <tr style=\"text-align: right;\">\n",
       "      <th></th>\n",
       "      <th>temp</th>\n",
       "      <th>atemp</th>\n",
       "      <th>humidity</th>\n",
       "      <th>windspeed</th>\n",
       "      <th>holiday_Yes</th>\n",
       "      <th>workingday_Yes</th>\n",
       "      <th>weather_Dégagé à nuageux</th>\n",
       "      <th>weather_Fortes averses ou neiges</th>\n",
       "      <th>weather_Légère pluie ou neige</th>\n",
       "      <th>month_name_August</th>\n",
       "      <th>...</th>\n",
       "      <th>month_name_September</th>\n",
       "      <th>weekday_name_Monday</th>\n",
       "      <th>weekday_name_Saturday</th>\n",
       "      <th>weekday_name_Sunday</th>\n",
       "      <th>weekday_name_Thursday</th>\n",
       "      <th>weekday_name_Tuesday</th>\n",
       "      <th>weekday_name_Wednesday</th>\n",
       "      <th>season_name_spring</th>\n",
       "      <th>season_name_summer</th>\n",
       "      <th>season_name_winter</th>\n",
       "    </tr>\n",
       "  </thead>\n",
       "  <tbody>\n",
       "    <tr>\n",
       "      <th>0</th>\n",
       "      <td>-1.333661</td>\n",
       "      <td>-1.092737</td>\n",
       "      <td>0.993213</td>\n",
       "      <td>-1.567754</td>\n",
       "      <td>0</td>\n",
       "      <td>0</td>\n",
       "      <td>1</td>\n",
       "      <td>0</td>\n",
       "      <td>0</td>\n",
       "      <td>0</td>\n",
       "      <td>...</td>\n",
       "      <td>0</td>\n",
       "      <td>0</td>\n",
       "      <td>1</td>\n",
       "      <td>0</td>\n",
       "      <td>0</td>\n",
       "      <td>0</td>\n",
       "      <td>0</td>\n",
       "      <td>0</td>\n",
       "      <td>0</td>\n",
       "      <td>1</td>\n",
       "    </tr>\n",
       "    <tr>\n",
       "      <th>1</th>\n",
       "      <td>-1.438907</td>\n",
       "      <td>-1.182421</td>\n",
       "      <td>0.941249</td>\n",
       "      <td>-1.567754</td>\n",
       "      <td>0</td>\n",
       "      <td>0</td>\n",
       "      <td>1</td>\n",
       "      <td>0</td>\n",
       "      <td>0</td>\n",
       "      <td>0</td>\n",
       "      <td>...</td>\n",
       "      <td>0</td>\n",
       "      <td>0</td>\n",
       "      <td>1</td>\n",
       "      <td>0</td>\n",
       "      <td>0</td>\n",
       "      <td>0</td>\n",
       "      <td>0</td>\n",
       "      <td>0</td>\n",
       "      <td>0</td>\n",
       "      <td>1</td>\n",
       "    </tr>\n",
       "    <tr>\n",
       "      <th>2</th>\n",
       "      <td>-1.438907</td>\n",
       "      <td>-1.182421</td>\n",
       "      <td>0.941249</td>\n",
       "      <td>-1.567754</td>\n",
       "      <td>0</td>\n",
       "      <td>0</td>\n",
       "      <td>1</td>\n",
       "      <td>0</td>\n",
       "      <td>0</td>\n",
       "      <td>0</td>\n",
       "      <td>...</td>\n",
       "      <td>0</td>\n",
       "      <td>0</td>\n",
       "      <td>1</td>\n",
       "      <td>0</td>\n",
       "      <td>0</td>\n",
       "      <td>0</td>\n",
       "      <td>0</td>\n",
       "      <td>0</td>\n",
       "      <td>0</td>\n",
       "      <td>1</td>\n",
       "    </tr>\n",
       "    <tr>\n",
       "      <th>3</th>\n",
       "      <td>-1.333661</td>\n",
       "      <td>-1.092737</td>\n",
       "      <td>0.681430</td>\n",
       "      <td>-1.567754</td>\n",
       "      <td>0</td>\n",
       "      <td>0</td>\n",
       "      <td>1</td>\n",
       "      <td>0</td>\n",
       "      <td>0</td>\n",
       "      <td>0</td>\n",
       "      <td>...</td>\n",
       "      <td>0</td>\n",
       "      <td>0</td>\n",
       "      <td>1</td>\n",
       "      <td>0</td>\n",
       "      <td>0</td>\n",
       "      <td>0</td>\n",
       "      <td>0</td>\n",
       "      <td>0</td>\n",
       "      <td>0</td>\n",
       "      <td>1</td>\n",
       "    </tr>\n",
       "    <tr>\n",
       "      <th>4</th>\n",
       "      <td>-1.333661</td>\n",
       "      <td>-1.092737</td>\n",
       "      <td>0.681430</td>\n",
       "      <td>-1.567754</td>\n",
       "      <td>0</td>\n",
       "      <td>0</td>\n",
       "      <td>1</td>\n",
       "      <td>0</td>\n",
       "      <td>0</td>\n",
       "      <td>0</td>\n",
       "      <td>...</td>\n",
       "      <td>0</td>\n",
       "      <td>0</td>\n",
       "      <td>1</td>\n",
       "      <td>0</td>\n",
       "      <td>0</td>\n",
       "      <td>0</td>\n",
       "      <td>0</td>\n",
       "      <td>0</td>\n",
       "      <td>0</td>\n",
       "      <td>1</td>\n",
       "    </tr>\n",
       "  </tbody>\n",
       "</table>\n",
       "<p>5 rows × 29 columns</p>\n",
       "</div>"
      ],
      "text/plain": [
       "       temp     atemp  humidity  windspeed  holiday_Yes  workingday_Yes  \\\n",
       "0 -1.333661 -1.092737  0.993213  -1.567754            0               0   \n",
       "1 -1.438907 -1.182421  0.941249  -1.567754            0               0   \n",
       "2 -1.438907 -1.182421  0.941249  -1.567754            0               0   \n",
       "3 -1.333661 -1.092737  0.681430  -1.567754            0               0   \n",
       "4 -1.333661 -1.092737  0.681430  -1.567754            0               0   \n",
       "\n",
       "   weather_Dégagé à nuageux  weather_Fortes averses ou neiges  \\\n",
       "0                         1                                 0   \n",
       "1                         1                                 0   \n",
       "2                         1                                 0   \n",
       "3                         1                                 0   \n",
       "4                         1                                 0   \n",
       "\n",
       "   weather_Légère pluie ou neige  month_name_August  ...  \\\n",
       "0                              0                  0  ...   \n",
       "1                              0                  0  ...   \n",
       "2                              0                  0  ...   \n",
       "3                              0                  0  ...   \n",
       "4                              0                  0  ...   \n",
       "\n",
       "   month_name_September  weekday_name_Monday  weekday_name_Saturday  \\\n",
       "0                     0                    0                      1   \n",
       "1                     0                    0                      1   \n",
       "2                     0                    0                      1   \n",
       "3                     0                    0                      1   \n",
       "4                     0                    0                      1   \n",
       "\n",
       "   weekday_name_Sunday  weekday_name_Thursday  weekday_name_Tuesday  \\\n",
       "0                    0                      0                     0   \n",
       "1                    0                      0                     0   \n",
       "2                    0                      0                     0   \n",
       "3                    0                      0                     0   \n",
       "4                    0                      0                     0   \n",
       "\n",
       "   weekday_name_Wednesday  season_name_spring  season_name_summer  \\\n",
       "0                       0                   0                   0   \n",
       "1                       0                   0                   0   \n",
       "2                       0                   0                   0   \n",
       "3                       0                   0                   0   \n",
       "4                       0                   0                   0   \n",
       "\n",
       "   season_name_winter  \n",
       "0                   1  \n",
       "1                   1  \n",
       "2                   1  \n",
       "3                   1  \n",
       "4                   1  \n",
       "\n",
       "[5 rows x 29 columns]"
      ]
     },
     "execution_count": 309,
     "metadata": {},
     "output_type": "execute_result"
    }
   ],
   "source": [
    "new_df.head()"
   ]
  },
  {
   "cell_type": "markdown",
   "metadata": {},
   "source": [
    "# ML Model"
   ]
  },
  {
   "cell_type": "code",
   "execution_count": 310,
   "metadata": {
    "ExecuteTime": {
     "end_time": "2019-09-22T23:59:01.639084Z",
     "start_time": "2019-09-22T23:59:01.630894Z"
    }
   },
   "outputs": [],
   "source": [
    "# We want to split the dataset between training and test dataset\n",
    "\n",
    "X = new_df\n",
    "y = df[\"count\"]\n",
    "\n",
    "X_train, X_test, y_train, y_test = train_test_split(X, y, test_size=0.2, random_state=42)"
   ]
  },
  {
   "cell_type": "code",
   "execution_count": 311,
   "metadata": {
    "ExecuteTime": {
     "end_time": "2019-09-22T23:59:02.083705Z",
     "start_time": "2019-09-22T23:59:02.077804Z"
    },
    "scrolled": true
   },
   "outputs": [
    {
     "name": "stdout",
     "output_type": "stream",
     "text": [
      "Shape of X and y for training and test:\n",
      "X_train: (8708, 29)\n",
      "X_test: (2178, 29)\n",
      "y_train: (8708,)\n",
      "y_test: (2178,)\n"
     ]
    }
   ],
   "source": [
    "print(\"Shape of X and y for training and test:\")\n",
    "print(\"X_train: {}\".format(X_train.shape))\n",
    "print(\"X_test: {}\".format(X_test.shape))\n",
    "print(\"y_train: {}\".format(y_train.shape))\n",
    "print(\"y_test: {}\".format(y_test.shape))"
   ]
  },
  {
   "cell_type": "code",
   "execution_count": 312,
   "metadata": {
    "ExecuteTime": {
     "end_time": "2019-09-22T23:59:03.673777Z",
     "start_time": "2019-09-22T23:59:03.408468Z"
    }
   },
   "outputs": [
    {
     "name": "stderr",
     "output_type": "stream",
     "text": [
      "/Users/louisdreyfus/bin/anaconda/lib/python3.6/site-packages/sklearn/ensemble/forest.py:245: FutureWarning: The default value of n_estimators will change from 10 in version 0.20 to 100 in 0.22.\n",
      "  \"10 in version 0.20 to 100 in 0.22.\", FutureWarning)\n"
     ]
    },
    {
     "data": {
      "text/plain": [
       "array([336.6,  43. ,  76.1, ..., 354. ,  54. , 269.6])"
      ]
     },
     "execution_count": 312,
     "metadata": {},
     "output_type": "execute_result"
    }
   ],
   "source": [
    "# Let's create a RandomForestRegressor Model\n",
    "rfg = RandomForestRegressor()\n",
    "\n",
    "# Now, we want to fit our model with X_train and y_train\n",
    "rfg.fit(X_train, y_train)\n",
    "\n",
    "# Finally, we want to make prediction from X_test\n",
    "y_pred = rfg.predict(X_test)\n",
    "y_pred"
   ]
  },
  {
   "cell_type": "code",
   "execution_count": 313,
   "metadata": {
    "ExecuteTime": {
     "end_time": "2019-09-22T23:59:07.795202Z",
     "start_time": "2019-09-22T23:59:07.788397Z"
    },
    "scrolled": true
   },
   "outputs": [
    {
     "name": "stdout",
     "output_type": "stream",
     "text": [
      "MAE: 100.84595052254143\n",
      "MSE: 20818.364311087258\n",
      "R2: 144.28570376543638\n"
     ]
    }
   ],
   "source": [
    "# We want to evaluate our model\n",
    "\n",
    "# Compute MAE, MSE, R2\n",
    "mae = metrics.mean_absolute_error(y_test, y_pred)\n",
    "mse = metrics.mean_squared_error(y_test, y_pred)\n",
    "r2 = np.sqrt(metrics.mean_squared_error(y_test,y_pred))\n",
    "\n",
    "print(\"MAE: {}\".format(mae))\n",
    "print(\"MSE: {}\".format(mse))\n",
    "print(\"R2: {}\".format(r2))\n"
   ]
  },
  {
   "cell_type": "code",
   "execution_count": 314,
   "metadata": {
    "ExecuteTime": {
     "end_time": "2019-09-22T23:59:15.665532Z",
     "start_time": "2019-09-22T23:59:15.649269Z"
    }
   },
   "outputs": [
    {
     "name": "stdout",
     "output_type": "stream",
     "text": [
      "Accuracy: 0.3692730401812412\n"
     ]
    }
   ],
   "source": [
    "score = rfg.score(X_test, y_test)\n",
    "\n",
    "print(\"Accuracy: {}\".format(score))"
   ]
  },
  {
   "cell_type": "code",
   "execution_count": 225,
   "metadata": {
    "ExecuteTime": {
     "end_time": "2019-09-22T23:06:34.645933Z",
     "start_time": "2019-09-22T23:06:34.643129Z"
    }
   },
   "outputs": [],
   "source": [
    "# The R2 is very high, I assume the model overfit on the data:\n",
    "\n",
    "# We could do the following things:\n",
    "# Try another model and see if it overfits as well\n",
    "# Optimize the hyperparameters of the model\n",
    "# Select few columns for our model"
   ]
  },
  {
   "cell_type": "code",
   "execution_count": null,
   "metadata": {},
   "outputs": [],
   "source": []
  }
 ],
 "metadata": {
  "kernelspec": {
   "display_name": "Python 3",
   "language": "python",
   "name": "python3"
  },
  "language_info": {
   "codemirror_mode": {
    "name": "ipython",
    "version": 3
   },
   "file_extension": ".py",
   "mimetype": "text/x-python",
   "name": "python",
   "nbconvert_exporter": "python",
   "pygments_lexer": "ipython3",
   "version": "3.6.8"
  },
  "toc": {
   "base_numbering": 1,
   "nav_menu": {},
   "number_sections": true,
   "sideBar": true,
   "skip_h1_title": false,
   "title_cell": "Table of Contents",
   "title_sidebar": "Contents",
   "toc_cell": false,
   "toc_position": {},
   "toc_section_display": true,
   "toc_window_display": false
  }
 },
 "nbformat": 4,
 "nbformat_minor": 2
}
